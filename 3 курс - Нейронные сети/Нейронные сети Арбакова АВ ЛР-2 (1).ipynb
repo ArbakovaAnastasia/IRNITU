{
  "cells": [
    {
      "cell_type": "markdown",
      "metadata": {
        "id": "2c4855fb"
      },
      "source": [
        "# Лабораторная работа «Нейронная сеть для распознавания рукописных цифр»\n",
        "\n",
        "Цель: написать компьютерную программу на языке Python, создающую и обучающую\n",
        "нейронную сеть для распознавания рукописных цифр.\n",
        "\n",
        "Исходные данные:\n",
        "\n",
        "1. Количество слоев нейронной сети: 3\n",
        "\n",
        "2. Входные данные для нейронной сети: изображения размером 28 × 28 пикселов.\n"
      ],
      "id": "2c4855fb"
    },
    {
      "cell_type": "code",
      "source": [
        "pip install wget # Пакет wget для скачивания файлов из Интернета"
      ],
      "metadata": {
        "colab": {
          "base_uri": "https://localhost:8080/"
        },
        "id": "PkFu138dGdQU",
        "outputId": "ee6487ff-0655-44bd-d1ed-9570f2735942"
      },
      "id": "PkFu138dGdQU",
      "execution_count": 42,
      "outputs": [
        {
          "output_type": "stream",
          "name": "stdout",
          "text": [
            "Requirement already satisfied: wget in /usr/local/lib/python3.10/dist-packages (3.2)\n"
          ]
        }
      ]
    },
    {
      "cell_type": "code",
      "source": [
        "import wget\n",
        "for index in range(10):\n",
        "  as_str = str(index)\n",
        "  as_str += \".bmp\"\n",
        "  wget.download('http://xyla.istu.webappz.ru/neuron/'+as_str)\n",
        "wget.download(('http://xyla.istu.webappz.ru/neuron/mnist.pkl.gz'))\n",
        "# база данных MNIST содержит 70 000 изображений рукописных цифр, разделенных на три набора:\n",
        "# training_data – набор из 50 000 изображений предназначен для обучения нейронных сетей;\n",
        "# validation_data – набор из 10 000 изображений предназначен для текущей оценки работы алгоритма обучения и подбора параметров обучения (используется в последующих лабораторных работах);\n",
        "# test_data – набор из 10 000 изображений предназначен для проверки работы нейронной сетей.\n",
        "# Каждый набор состоит из двух списков: списка изображений (в градациях серого) и соответствующего списка цифр в диапазоне от 0 до 9 Изображение представлено в виде одномерного numpy-массива размера 784 = 28 × 28 значений от 0 до 1, где 0 соответствует черному цвету пиксела, а 1 – белому."
      ],
      "metadata": {
        "colab": {
          "base_uri": "https://localhost:8080/",
          "height": 35
        },
        "id": "yL7IJsZ7GbJ7",
        "outputId": "029ecaa2-95f3-4615-a4b7-ca7d3ead8357"
      },
      "id": "yL7IJsZ7GbJ7",
      "execution_count": 43,
      "outputs": [
        {
          "output_type": "execute_result",
          "data": {
            "text/plain": [
              "'mnist.pkl.gz'"
            ],
            "application/vnd.google.colaboratory.intrinsic+json": {
              "type": "string"
            }
          },
          "metadata": {},
          "execution_count": 43
        }
      ]
    },
    {
      "cell_type": "code",
      "execution_count": 44,
      "metadata": {
        "id": "2138a3d9"
      },
      "outputs": [],
      "source": [
        "# В качестве функции активации для нейронов сети используется сигмоидальная функция, вычисляющая выходной сигнал искусственного нейрона\n",
        "def sigmoid(z):                         # определение сигмоидальной функции активации\n",
        "    return 1.0/(1.0+np.exp(-z))"
      ],
      "id": "2138a3d9"
    },
    {
      "cell_type": "code",
      "execution_count": 45,
      "metadata": {
        "id": "6d9e78c4"
      },
      "outputs": [],
      "source": [
        "# Данный метод осуществляет подсчет выходных сигналов нейронной сети при заданных входных сигналах.\n",
        "# Параметр a является массивом n × 1, где n – количество нейронов входного слоя. Функция np.dot вычисляет произведение матриц.\n",
        "# Для подсчета выходных значений нейронной сети, необходимо один раз вызвать метод feedforward, в результате чего выходные сигналы будут последовательно вычислены для всех слоев нейронной сети.\n",
        "def feedforward(self, a):\n",
        "    for b, w in zip(self.biases, self.weights):\n",
        "        a = sigmoid(np.dot(w, a)+b)\n",
        "    return a"
      ],
      "id": "6d9e78c4"
    },
    {
      "cell_type": "code",
      "execution_count": 46,
      "metadata": {
        "id": "cd991964"
      },
      "outputs": [],
      "source": [
        "# Для реализации механизма обучения создаваемой нейронной сети добавим метод SGD, который реализует стохастический градиентный спуск. Метод имеет следующие параметры:\n",
        "# «Training_data» – обучающая выборка, состоящая из пар вида ( , ), где – вектор входных сигналов, а – ожидаемый вектор выходных сигналов;\n",
        "# «epochs» – количество эпох обучения;\n",
        "# «mini_batch_size» - размер подвыборки;\n",
        "# «eta» - скорость обучения;\n",
        "# «test_data» - (необязательный параметр); если данный аргумент не пуст, то программа после каждой эпохи обучения осуществляет оценку работы сети и показывает достигнутый прогресс.\n",
        "def SGD(                              # Стохастический градиентный спуск\n",
        "          self                        # указатель на объект класса\n",
        "        , training_data               # обучающая выборка\n",
        "        , epochs                      # количество эпох обучения\n",
        "        , mini_batch_size             # размер подвыборки\n",
        "        , eta                         # скорость обучения\n",
        "        , test_data                   # тестирующая выборка\n",
        "        ):\n",
        "    test_data = list(test_data)                                         # создаем список объектов тестирующей выборки\n",
        "    n_test = len(test_data)                                             # вычисляем длину тестирующей выборки\n",
        "    training_data = list(training_data)                                 # создаем список объектов обучающей выборки\n",
        "    n = len(training_data)                                              # вычисляем размер обучающей выборки\n",
        "    for j in range(epochs):                                             # цикл по эпохам\n",
        "        random.shuffle(training_data)                                   # перемешиваем элементы обучающей выборки\n",
        "        mini_batches = [training_data[k:k+mini_batch_size] for k in range(0, n, mini_batch_size)]    # создаем подвыборки\n",
        "        for mini_batch in mini_batches:                                                              # цикл по подвыборкам\n",
        "            self.update_mini_batch(mini_batch, eta)                                                  # один шаг градиентного спуска\n",
        "        print (\"Epoch {0}: {1} / {2}\".format(j, self.evaluate(test_data), n_test))                   # смотрим прогресс в обучении\n",
        "        with open('biases.pkl', 'wb') as f:\n",
        "            pickle.dump(self.biases, f)\n",
        "        with open('weights.pkl', 'wb') as f:\n",
        "            pickle.dump(self.weights, f)"
      ],
      "id": "cd991964"
    },
    {
      "cell_type": "code",
      "execution_count": 47,
      "metadata": {
        "id": "7ab1435c"
      },
      "outputs": [],
      "source": [
        "# Метод update_mini_batch вычисляет градиенты для каждого прецедента в подвыборке, а затем соответствующим образом обновляет веса и смещения нейронной сети\n",
        "def update_mini_batch(                    # Шаг градиентного спуска\n",
        "                      self                # указатель на объект класса\n",
        "                    , mini_batch          # подвыборка\n",
        "                    , eta                 # скорость обучения\n",
        "                    ):\n",
        "    nabla_b = [np.zeros(b.shape) for b in self.biases]                  # список градиентов dC/db для каждого слоя (первоначально заполняются нулями)\n",
        "    nabla_w = [np.zeros(w.shape) for w in self.weights]                 # список градиентов dC/dw для каждого слоя (первоначально заполняются нулями)\n",
        "    for x, y in mini_batch:\n",
        "        delta_nabla_b, delta_nabla_w = self.backprop(x, y)              # послойно вычисляем градиенты dC/db и dC/dw для текущего прецедента (x, y)\n",
        "        nabla_b = [nb+dnb for nb, dnb in zip(nabla_b, delta_nabla_b)]   # суммируем градиенты dC/db для различных прецедентов текущей подвыборки\n",
        "        nabla_w = [nw+dnw for nw, dnw in zip(nabla_w, delta_nabla_w)]   # суммируем градиенты dC/dw для различных прецедентов текущей подвыборки\n",
        "    self.weights = [w-(eta/len(mini_batch))*nw for w, nw in zip(self.weights, nabla_w)]   # обновляем все веса w нейронной сети\n",
        "    self.biases = [b-(eta/len(mini_batch))*nb for b, nb in zip(self.biases, nabla_b)]     # обновляем все смещения b нейронной сети"
      ],
      "id": "7ab1435c"
    },
    {
      "cell_type": "code",
      "execution_count": 48,
      "metadata": {
        "id": "27cf1b98"
      },
      "outputs": [],
      "source": [
        "def backprop(                           # Алгоритм обратного распространения\n",
        "              self                      # указатель на объект класса\n",
        "            , x                         # вектор входных сигналов\n",
        "            , y                         # ожидаемый вектор выходных сигналов\n",
        "            ):\n",
        "    nabla_b = [np.zeros(b.shape) for b in self.biases]                  # список градиентов dC/db для каждого слоя (первоначально заполняются нулями)\n",
        "    nabla_w = [np.zeros(w.shape) for w in self.weights]                 # список градиентов dC/dw для каждого слоя (первоначально заполняются нулями)\n",
        "\n",
        "    # определение переменных\n",
        "    activation = x                      # выходные сигналы слоя (первоначально соответствует выходным сигналам 1-го слоя или входным сигналам сети)\n",
        "    activations = [x]                   # список выходных сигналов по всем слоям (первоначально содержит только выходные сигналы 1-го слоя)\n",
        "    zs = []                             # список активационных потенциалов по всем слоям (первоначально пуст)\n",
        "\n",
        "    # прямое распространение\n",
        "    for b, w in zip(self.biases, self.weights):\n",
        "        z = np.dot(w, activation)+b     # считаем активационные потенциалы текущего слоя\n",
        "        zs.append(z)                    # добавляем элемент (активационные потенциалы слоя) в конец списка\n",
        "        activation = sigmoid(z)         # считаем выходные сигналы текущего слоя, применяя сигмоидальную функцию активации к активационным потенциалам слоя\n",
        "        activations.append(activation)  # добавляем элемент (выходные сигналы слоя) в конец списка\n",
        "\n",
        "    # обратное распространение\n",
        "    delta = self.cost_derivative(activations[-1], y) * sigmoid_prime(zs[-1]) # считаем меру влияния нейронов выходного слоя L на величину ошибки (BP1)\n",
        "    nabla_b[-1] = delta                 # градиент dC/db для слоя L (BP3)\n",
        "    nabla_w[-1] = np.dot(delta, activations[-2].transpose()) # градиент dC/dw для слоя L (BP4)\n",
        "    for l in range(2, self.num_layers):\n",
        "        z = zs[-l]                      # активационные потенциалы l-го слоя (двигаемся \"Положение EcoRobotics.docx\"списку справа налево)\n",
        "        sp = sigmoid_prime(z)           # считаем сигмоидальную функцию от активационных потенциалов l-го слоя\n",
        "        delta = np.dot(self.weights[-l+1].transpose(), delta) * sp      # считаем меру влияния нейронов l-го слоя на величину ошибки (BP2)\n",
        "        nabla_b[-l] = delta                                             # градиент dC/db для l-го слоя (BP3)\n",
        "        nabla_w[-l] = np.dot(delta, activations[-l-1].transpose())      # градиент dC/dw для l-го слоя (BP4)\n",
        "    return (nabla_b, nabla_w)"
      ],
      "id": "27cf1b98"
    },
    {
      "cell_type": "code",
      "execution_count": 49,
      "metadata": {
        "id": "107adbcb"
      },
      "outputs": [],
      "source": [
        "# Метод возвращает количество прецедентов тестирующей выборки, для которых нейронная сеть выдает правильный результат\n",
        "# Тестирующая выборка состоит из пар (x, y), где x – вектор размерности 784, содержащий изображение цифры, а y – целое числовое значение цифры, изображенной на картинке\n",
        "# Ответ нейронной сети определяется как номер нейрона в выходном слое, имеющего наибольшее значение функции активации\n",
        "# Метод evaluate вызывается в методе SGD после завершения очередной эпохи обучения\n",
        "def evaluate(self, test_data): # Оценка прогресса в обучении\n",
        "    test_results = [(np.argmax(self.feedforward(x)), y) for (x, y) in test_data]\n",
        "    return sum(int(x == y) for (x, y) in test_results)"
      ],
      "id": "107adbcb"
    },
    {
      "cell_type": "code",
      "execution_count": 50,
      "metadata": {
        "id": "51259b8a"
      },
      "outputs": [],
      "source": [
        "# Вычисление частных производных стоимостной функции по выходным сигналам последнего слоя\n",
        "def cost_derivative(self, output_activations, y): # Вычисление частных производных стоимостной функции по выходным сигналам последнего слоя\n",
        "    return (output_activations-y)"
      ],
      "id": "51259b8a"
    },
    {
      "cell_type": "code",
      "execution_count": 51,
      "metadata": {
        "id": "1f646108"
      },
      "outputs": [],
      "source": [
        "def sigmoid_prime(z):  # Производная сигмоидальной функции\n",
        "    return sigmoid(z)*(1-sigmoid(z))"
      ],
      "id": "1f646108"
    },
    {
      "cell_type": "code",
      "execution_count": 52,
      "metadata": {
        "id": "b3cb8848"
      },
      "outputs": [],
      "source": [
        "# Функции для работы с базой данных MNIST\n",
        "import gzip # библиотека для сжатия и распаковки файлов gzip и gunzip.\n",
        "import pickle # библиотека для сохранения и загрузки сложных объектов Python.\n",
        "import numpy as np # библиотека для работы с матрицами\n",
        "\n",
        "def load_data():\n",
        "    f = gzip.open('mnist.pkl.gz', 'rb') # открываем сжатый файл gzip в двоичном режиме\n",
        "    training_data, validation_data, test_data = pickle.load(f, encoding='latin1') # загружам таблицы из файла\n",
        "    f.close() # закрываем файл\n",
        "    return (training_data, validation_data, test_data)"
      ],
      "id": "b3cb8848"
    },
    {
      "cell_type": "code",
      "execution_count": 53,
      "metadata": {
        "id": "ca3d1d64"
      },
      "outputs": [],
      "source": [
        "# Для преобразования числа в вектор-столбец (10-мерный numpy массив), используется следующая функция vectorized_result.\n",
        "def vectorized_result(j):\n",
        "    e = np.zeros((10, 1))\n",
        "    e[j] = 1\n",
        "    return e"
      ],
      "id": "ca3d1d64"
    },
    {
      "cell_type": "code",
      "execution_count": 54,
      "metadata": {
        "id": "431822a2"
      },
      "outputs": [],
      "source": [
        "# Для использования базы данных MNIST в нашей программе необходимо скорректировать форматы наборы training_data, validation_data и test_data\n",
        "# Это делается в функции load_data_wrapper\n",
        "def load_data_wrapper():\n",
        "    tr_d, va_d, te_d = load_data()                                      # инициализация наборов данных в формате MNIST\n",
        "    training_inputs = [np.reshape(x, (784, 1)) for x in tr_d[0]]        # преобразование массивов размера 1 на 784 к массивам размера 784 на 1\n",
        "    training_results = [vectorized_result(y) for y in tr_d[1]]          # представление цифр от 0 до 9 в виде массивов размера 10 на 1\n",
        "    training_data = zip(training_inputs, training_results)              # формируем набор обучающих данных из пар (x, y)\n",
        "    validation_inputs = [np.reshape(x, (784, 1)) for x in va_d[0]]      # преобразование массивов размера 1 на 784 к массивам размера 784 на 1\n",
        "    validation_data = zip(validation_inputs, va_d[1])                   # формируем набор данных проверки из пар (x, y)\n",
        "    test_inputs = [np.reshape(x, (784, 1)) for x in te_d[0]]            # преобразование массивов размера 1 на 784 к массивам размера 784 на 1\n",
        "    test_data = zip(test_inputs, te_d[1])                               # формируем набор тестовых данных из пар (x, y)\n",
        "    return (training_data, validation_data, test_data)\n",
        "\n",
        "training_data, validation_data,test_data = load_data_wrapper()\n",
        "# Данная функция преобразует training_data в список, содержащий 50 000 пар (x, y), где x является 784-мерным numpy-массивом, содержащим входное изображение\n",
        "# а y – это 10-мерный numpy-массив, представляющий собой вектор, у которого координата с порядковым номером, соответствующим цифре на изображении\n",
        "# равняется единице, а остальные координаты нулевые. Аналогичные преобразования делаются для наборов validation_data и test_data."
      ],
      "id": "431822a2"
    },
    {
      "cell_type": "code",
      "execution_count": 55,
      "metadata": {
        "id": "710a32fe"
      },
      "outputs": [],
      "source": [
        "import numpy as np # библиотека функций для работы с матрицами\n",
        "import pickle\n",
        "\n",
        "def sigmoid(z): # определение сигмоидальной функции активации\n",
        "    return 1.0/(1.0+np.exp(-z))"
      ],
      "id": "710a32fe"
    },
    {
      "cell_type": "code",
      "execution_count": 56,
      "metadata": {
        "colab": {
          "base_uri": "https://localhost:8080/"
        },
        "id": "b6432843",
        "outputId": "09a4f40a-c7dc-4683-c309-7055df6bf244"
      },
      "outputs": [
        {
          "output_type": "stream",
          "name": "stdout",
          "text": [
            "Сеть net:\n",
            "Количетво слоев: 3\n",
            "Количество нейронов в слое 0 : 2\n",
            "Количество нейронов в слое 1 : 3\n",
            "Количество нейронов в слое 2 : 1\n",
            "W_ 1 :\n",
            "[[ 0.07  0.95 -0.86 ... -0.9  -2.81 -1.61]\n",
            " [-0.46  0.52  0.26 ... -0.6  -0.78  1.15]\n",
            " [ 0.02  1.24  0.09 ... -0.19 -0.16  0.86]\n",
            " ...\n",
            " [ 1.2   0.11  1.32 ...  0.41 -0.67 -0.33]\n",
            " [-0.05  0.74 -0.3  ...  1.13  0.27 -2.06]\n",
            " [ 0.5   0.42  0.47 ...  1.54  0.63 -1.48]]\n",
            "b_ 1 :\n",
            "[[ 5.11]\n",
            " [-5.53]\n",
            " [-0.12]\n",
            " [-0.4 ]\n",
            " [-0.39]\n",
            " [-0.61]\n",
            " [-0.24]\n",
            " [ 2.34]\n",
            " [ 3.17]\n",
            " [-2.37]\n",
            " [-1.4 ]\n",
            " [ 1.83]\n",
            " [ 4.69]\n",
            " [ 0.83]\n",
            " [ 0.99]\n",
            " [-5.41]\n",
            " [ 3.03]\n",
            " [-0.58]\n",
            " [-4.87]\n",
            " [ 3.88]\n",
            " [ 2.6 ]\n",
            " [-1.43]\n",
            " [ 0.54]\n",
            " [ 0.54]\n",
            " [-4.12]\n",
            " [-3.72]\n",
            " [-3.17]\n",
            " [-0.17]\n",
            " [ 1.04]\n",
            " [-0.05]]\n",
            "W_ 2 :\n",
            "[[ 7.500e-01 -2.900e+00 -3.600e+00  1.480e+00 -4.260e+00  2.600e+00\n",
            "  -1.560e+00 -2.760e+00  1.000e+00  6.400e-01  1.670e+00  2.470e+00\n",
            "  -2.130e+00  2.580e+00 -6.550e+00 -4.620e+00  3.230e+00  5.400e+00\n",
            "   3.940e+00 -3.080e+00 -3.430e+00 -4.570e+00  4.900e-01  1.350e+00\n",
            "  -4.710e+00 -9.400e-01 -7.500e-01  3.760e+00 -2.430e+00 -3.010e+00]\n",
            " [-2.430e+00  1.100e-01 -1.790e+00  1.400e+00  3.260e+00 -6.430e+00\n",
            "   3.920e+00 -5.530e+00 -2.600e+00  8.000e-01  2.840e+00  2.860e+00\n",
            "  -4.110e+00 -2.990e+00 -1.160e+00 -2.280e+00 -2.990e+00 -4.300e-01\n",
            "  -2.170e+00 -7.230e+00 -1.700e-01  1.610e+00  3.930e+00  3.700e+00\n",
            "   2.480e+00 -3.350e+00 -3.000e-02  3.030e+00 -3.600e+00  3.720e+00]\n",
            " [ 1.230e+00 -4.820e+00  2.420e+00  3.960e+00  4.420e+00 -3.800e-01\n",
            "   2.180e+00  1.080e+00  3.740e+00  2.660e+00 -9.150e+00 -3.000e+00\n",
            "  -1.410e+00  3.890e+00 -5.120e+00  1.820e+00  2.590e+00 -3.450e+00\n",
            "   3.000e+00 -3.630e+00 -4.290e+00 -6.000e-01  1.020e+00  2.270e+00\n",
            "   3.550e+00  4.520e+00 -3.000e-02 -4.500e+00 -2.690e+00 -7.360e+00]\n",
            " [-2.300e+00  7.610e+00 -2.870e+00 -1.000e+00 -1.370e+00  7.700e-01\n",
            "  -2.840e+00 -2.300e+00 -5.020e+00  5.740e+00  3.310e+00 -3.470e+00\n",
            "   5.560e+00 -4.140e+00 -3.600e+00  1.400e+00  8.200e-01 -3.800e+00\n",
            "   6.000e-01  2.800e+00 -5.790e+00 -7.700e+00 -3.700e-01 -5.000e-01\n",
            "  -3.810e+00  4.750e+00  7.190e+00 -4.900e-01 -2.170e+00  1.030e+00]\n",
            " [-5.960e+00 -3.380e+00 -1.760e+00  5.770e+00  2.400e-01  7.000e-02\n",
            "  -3.400e-01  5.410e+00  4.600e-01  5.290e+00  1.300e-01  1.840e+00\n",
            "  -3.000e-01  3.800e-01 -3.420e+00 -5.700e-01 -2.700e+00  1.860e+00\n",
            "   2.410e+00 -2.420e+00 -2.270e+00  1.200e+00 -6.640e+00 -4.790e+00\n",
            "  -9.200e+00 -3.980e+00  1.040e+00 -1.230e+00  2.830e+00  4.290e+00]\n",
            " [ 4.580e+00 -5.140e+00  2.270e+00  3.200e+00  7.600e-01  2.070e+00\n",
            "   1.490e+00  2.500e+00  5.240e+00 -1.023e+01  1.100e-01 -5.530e+00\n",
            "   7.450e+00 -4.730e+00 -1.190e+00  3.490e+00  8.700e-01  7.000e-02\n",
            "  -5.440e+00  5.600e-01 -1.650e+00 -4.380e+00  1.360e+00 -4.200e-01\n",
            "  -2.270e+00 -2.920e+00 -6.690e+00  5.050e+00 -2.260e+00 -2.070e+00]\n",
            " [-1.840e+00 -5.080e+00  2.250e+00 -2.730e+00 -3.540e+00 -3.400e+00\n",
            "  -5.830e+00  1.970e+00  1.200e+00 -1.560e+00  1.120e+00  2.570e+00\n",
            "  -1.160e+00  6.250e+00 -3.690e+00 -3.680e+00 -1.210e+00 -7.360e+00\n",
            "   2.250e+00  2.170e+00 -4.330e+00 -2.950e+00  5.130e+00 -3.220e+00\n",
            "   2.350e+00 -7.210e+00  5.600e-01  2.150e+00  9.100e-01  4.500e+00]\n",
            " [-2.560e+00  4.150e+00  5.450e+00 -5.110e+00  1.990e+00  1.810e+00\n",
            "   1.420e+00 -2.230e+00  8.500e-01  1.940e+00  3.270e+00 -5.000e-01\n",
            "  -2.700e+00  2.330e+00 -3.150e+00 -5.100e+00  2.740e+00  8.000e-01\n",
            "  -2.760e+00 -2.660e+00 -3.970e+00  2.060e+00 -9.290e+00 -1.860e+00\n",
            "   2.570e+00  5.020e+00 -2.130e+00  1.590e+00  7.440e+00  1.680e+00]\n",
            " [ 3.710e+00 -3.610e+00 -3.810e+00 -4.710e+00 -2.440e+00  2.840e+00\n",
            "   2.310e+00 -2.780e+00  3.810e+00  5.420e+00 -4.400e-01  4.050e+00\n",
            "  -3.500e+00  5.730e+00 -8.070e+00  1.380e+00 -3.900e+00 -9.200e-01\n",
            "  -5.560e+00  6.770e+00 -9.270e+00 -2.530e+00 -1.260e+00 -2.220e+00\n",
            "  -2.210e+00 -4.070e+00  5.110e+00 -5.360e+00 -7.710e+00 -2.940e+00]\n",
            " [ 5.620e+00 -3.770e+00 -7.190e+00 -1.028e+01 -3.700e+00 -2.330e+00\n",
            "  -1.460e+00  7.500e-01 -1.590e+00 -9.800e-01 -1.010e+00  7.000e-02\n",
            "   4.170e+00 -3.850e+00 -3.140e+00 -1.000e-02 -7.500e-01  9.200e-01\n",
            "   1.480e+00 -1.790e+00 -2.700e+00  3.690e+00 -3.440e+00  5.360e+00\n",
            "  -3.530e+00 -6.280e+00  2.990e+00 -2.640e+00  5.070e+00 -6.740e+00]]\n",
            "b_ 2 :\n",
            "[[-5.96]\n",
            " [-1.06]\n",
            " [-5.72]\n",
            " [-5.67]\n",
            " [-3.72]\n",
            " [-2.31]\n",
            " [-4.41]\n",
            " [-3.14]\n",
            " [-8.19]\n",
            " [-4.7 ]]\n"
          ]
        }
      ],
      "source": [
        "from IPython.lib.display import exists\n",
        "\"\"\"\"\"\"\"\"\"\"\"\"\"\"\"\"\"\"\"\"\"\"\"\"\"\"\"\"\"\"\"\"\"\"\"\"\"\"\"\n",
        "Модуль создания и обучения нейронной сети для распознавания рукописных цифр с использованием метода градиентного спуска.\n",
        "Группа: АСУб-20-2\n",
        "ФИО:Арбакова Анастасия Вячеславовна\n",
        "\"\"\"\"\"\"\"\"\"\"\"\"\"\"\"\"\"\"\"\"\"\"\"\"\"\"\"\"\"\"\"\"\"\"\"\"\"\"\"\n",
        "#### Библиотеки\n",
        "# Стандартные библиотеки\n",
        "import random           # библиотека функций для генерации случайных значений\n",
        "import os.path\n",
        "\n",
        "# Сторонние библиотеки\n",
        "import numpy as np      # библиотека функций для работы с матрицами\n",
        "\n",
        "\"\"\" ---Раздел описаний--- \"\"\"\n",
        "\"\"\" --Описание класса Network--\"\"\"\n",
        "class Network(object):                        # используется для описания нейронной сети\n",
        "    def __init__(self, sizes):                # конструктор класса, self – указатель на объект класса, sizes – список размеров слоев нейронной сети\n",
        "        self.num_layers = len(sizes)          # задаем количество слоев нейронной сети\n",
        "        self.sizes = sizes                    # задаем список размеров слоев нейронной сети\n",
        "        self.biases = [np.random.randn(y, 1) for y in sizes[1:]]                         # задаем случайные начальные смещения\n",
        "        self.weights = [np.random.randn(y, x) for x, y in zip(sizes[:-1], sizes[1:])]    # задаем случайные начальные веса связей\n",
        "        if(os.path.isfile('biases.pkl')):\n",
        "          with open('biases.pkl', 'rb') as f: #открытие файла со смещениями\n",
        "            self.biases = pickle.load(f)\n",
        "        if(os.path.isfile('weights.pkl')):\n",
        "          with open('weights.pkl', 'rb') as f:#открытие файла с весами\n",
        "            self.weights = pickle.load(f)\n",
        "    def sigmoid(z):                            # определение сигмоидальной функции активации\n",
        "        return 1.0/(1.0+np.exp(-z))\n",
        "    def feedforward(self, a):\n",
        "        for b, w in zip(self.biases, self.weights):\n",
        "            a = sigmoid(np.dot(w, a)+b)\n",
        "        return a\n",
        "\n",
        "    def evaluate(self, test_data):             # Оценка прогресса в обучении\n",
        "        test_results = [(np.argmax(self.feedforward(x)), y) for (x, y) in test_data]\n",
        "        return sum(int(x == y) for (x, y) in test_results)\n",
        "\n",
        "    def cost_derivative(self, output_activations, y): # Вычисление частных производных стоимостной функции по выходным сигналам последнего слоя\n",
        "        return (output_activations-y)\n",
        "\n",
        "    def backprop(                     # Алгоритм обратного распространения\n",
        "              self                    # указатель на объект класса\n",
        "            , x                       # вектор входных сигналов\n",
        "            , y                       # ожидаемый вектор выходных сигналов\n",
        "            ):\n",
        "        nabla_b = [np.zeros(b.shape) for b in self.biases]      # список градиентов dC/db для каждого слоя (первоначально заполняются нулями)\n",
        "        nabla_w = [np.zeros(w.shape) for w in self.weights]     # список градиентов dC/dw для каждого слоя (первоначально заполняются нулями)\n",
        "\n",
        "        # определение переменных\n",
        "        activation = x                # выходные сигналы слоя (первоначально соответствует выходным сигналам 1-го слоя или входным сигналам сети)\n",
        "        activations = [x]             # список выходных сигналов по всем слоям (первоначально содержит только выходные сигналы 1-го слоя)\n",
        "        zs = []                       # список активационных потенциалов по всем слоям (первоначально пуст)\n",
        "\n",
        "        # прямое распространение\n",
        "        for b, w in zip(self.biases, self.weights):\n",
        "            z = np.dot(w, activation)+b                   # считаем активационные потенциалы текущего слоя\n",
        "            zs.append(z)                                  # добавляем элемент (активационные потенциалы слоя) в конец списка\n",
        "            activation = sigmoid(z)                       # считаем выходные сигналы текущего слоя, применяя сигмоидальную функцию активации к активационным потенциалам слоя\n",
        "            activations.append(activation)                # добавляем элемент (выходные сигналы слоя) в конец списка\n",
        "\n",
        "        # обратное распространение\n",
        "        delta = self.cost_derivative(activations[-1], y) * sigmoid_prime(zs[-1])    # считаем меру влияния нейронов выходного слоя L на величину ошибки (BP1)\n",
        "        nabla_b[-1] = delta                                                         # градиент dC/db для слоя L (BP3)\n",
        "        nabla_w[-1] = np.dot(delta, activations[-2].transpose())                    # градиент dC/dw для слоя L (BP4)\n",
        "        for l in range(2, self.num_layers):\n",
        "            z = zs[-l]                                                              # активационные потенциалы l-го слоя (двигаемся \"Положение EcoRobotics.docx\"списку справа налево)\n",
        "            sp = sigmoid_prime(z)                                                   # считаем сигмоидальную функцию от активационных потенциалов l-го слоя\n",
        "            delta = np.dot(self.weights[-l+1].transpose(), delta) * sp              # считаем меру влияния нейронов l-го слоя на величину ошибки (BP2)\n",
        "            nabla_b[-l] = delta                                                     # градиент dC/db для l-го слоя (BP3)\n",
        "            nabla_w[-l] = np.dot(delta, activations[-l-1].transpose())              # градиент dC/dw для l-го слоя (BP4)\n",
        "        return (nabla_b, nabla_w)\n",
        "\n",
        "    def update_mini_batch(                    # Шаг градиентного спуска\n",
        "                      self                    # указатель на объект класса\n",
        "                    , mini_batch              # подвыборка\n",
        "                    , eta                     # скорость обучения\n",
        "                    ):\n",
        "        nabla_b = [np.zeros(b.shape) for b in self.biases]                          # список градиентов dC/db для каждого слоя (первоначально заполняются нулями)\n",
        "        nabla_w = [np.zeros(w.shape) for w in self.weights]                         # список градиентов dC/dw для каждого слоя (первоначально заполняются нулями)\n",
        "        for x, y in mini_batch:\n",
        "            delta_nabla_b, delta_nabla_w = self.backprop(x, y)                      # послойно вычисляем градиенты dC/db и dC/dw для текущего прецедента (x, y)\n",
        "            nabla_b = [nb+dnb for nb, dnb in zip(nabla_b, delta_nabla_b)]           # суммируем градиенты dC/db для различных прецедентов текущей подвыборки\n",
        "            nabla_w = [nw+dnw for nw, dnw in zip(nabla_w, delta_nabla_w)]           # суммируем градиенты dC/dw для различных прецедентов текущей подвыборки\n",
        "        self.weights = [w-(eta/len(mini_batch))*nw for w, nw in zip(self.weights, nabla_w)] # обновляем все веса w нейронной сети\n",
        "        self.biases = [b-(eta/len(mini_batch))*nb for b, nb in zip(self.biases, nabla_b)] # обновляем все смещения b нейронной сети\n",
        "\n",
        "    def SGD(                                  # Стохастический градиентный спуск\n",
        "          self                                # указатель на объект класса\n",
        "        , training_data                       # обучающая выборка\n",
        "        , epochs                              # количество эпох обучения\n",
        "        , mini_batch_size                     # размер подвыборки\n",
        "        , eta                                 # скорость обучения\n",
        "        , test_data                           # тестирующая выборка\n",
        "        ):\n",
        "        test_data = list(test_data)           # создаем список объектов тестирующей выборки\n",
        "        n_test = len(test_data)               # вычисляем длину тестирующей выборки\n",
        "        training_data = list(training_data)   # создаем список объектов обучающей выборки\n",
        "        n = len(training_data)                # вычисляем размер обучающей выборки\n",
        "        for j in range(epochs):               # цикл по эпохам\n",
        "            random.shuffle(training_data)     # перемешиваем элементы обучающей выборки\n",
        "            mini_batches = [training_data[k:k+mini_batch_size] for k in range(0, n, mini_batch_size)] # создаем подвыборки\n",
        "            for mini_batch in mini_batches:   # цикл по подвыборкам\n",
        "                self.update_mini_batch(mini_batch, eta) # один шаг градиентного спуска\n",
        "            print (\"Epoch {0}: {1} / {2}\".format(j, self.evaluate(test_data), n_test)) # смотрим прогресс в обучении\n",
        "            with open('biases.pkl', 'wb') as f:\n",
        "                pickle.dump(self.biases, f)\n",
        "            with open('weights.pkl', 'wb') as f:\n",
        "                pickle.dump(self.weights, f)\n",
        "        \"\"\" --Конец описания класса Network--\"\"\"\n",
        "\"\"\" --- Конец раздела описаний--- \"\"\"\n",
        "\n",
        "\"\"\" ---Тело программы--- \"\"\"\n",
        "net = Network([2, 3, 1])                     # создаем нейронную сеть из трех слоев\n",
        "\"\"\" ---Конец тела программы--- \"\"\"\n",
        "\"\"\" Вывод результата на экран: \"\"\"\n",
        "print('Сеть net:')\n",
        "print('Количетво слоев:', net.num_layers)\n",
        "for i in range(net.num_layers):\n",
        "    print('Количество нейронов в слое', i,':',net.sizes[i])\n",
        "for i in range(net.num_layers-1):\n",
        "    print('W_',i+1,':')\n",
        "    print(np.round(net.weights[i],2))\n",
        "    print('b_',i+1,':')\n",
        "    print(np.round(net.biases[i],2))"
      ],
      "id": "b6432843"
    },
    {
      "cell_type": "code",
      "execution_count": 57,
      "metadata": {
        "id": "e33959c3"
      },
      "outputs": [],
      "source": [
        "net = Network([784, 30, 10])\n",
        "# Параметры, указанные при вызове данного метода, определяют топологию создаваемой сети\n",
        "# Таким образом, в результате выполнения команды будет создана сеть, состоящая из трех слоев:\n",
        "# входной слой сети состоит из 784-х нейронов\n",
        "# внутренний слой из 30 нейронов\n",
        "# выходной слой из 10 нейронов"
      ],
      "id": "e33959c3"
    },
    {
      "cell_type": "code",
      "execution_count": 58,
      "metadata": {
        "colab": {
          "base_uri": "https://localhost:8080/"
        },
        "id": "71924307",
        "scrolled": true,
        "outputId": "eeecb0d8-d255-4e33-ce2c-84d51ff9d89d"
      },
      "outputs": [
        {
          "output_type": "stream",
          "name": "stdout",
          "text": [
            "Epoch 0: 9518 / 10000\n",
            "Epoch 1: 9500 / 10000\n",
            "Epoch 2: 9521 / 10000\n",
            "Epoch 3: 9502 / 10000\n",
            "Epoch 4: 9478 / 10000\n",
            "Epoch 5: 9523 / 10000\n",
            "Epoch 6: 9516 / 10000\n",
            "Epoch 7: 9515 / 10000\n",
            "Epoch 8: 9521 / 10000\n",
            "Epoch 9: 9492 / 10000\n",
            "Epoch 10: 9505 / 10000\n",
            "Epoch 11: 9518 / 10000\n",
            "Epoch 12: 9509 / 10000\n",
            "Epoch 13: 9522 / 10000\n",
            "Epoch 14: 9522 / 10000\n",
            "Epoch 15: 9510 / 10000\n",
            "Epoch 16: 9505 / 10000\n",
            "Epoch 17: 9509 / 10000\n",
            "Epoch 18: 9531 / 10000\n",
            "Epoch 19: 9515 / 10000\n"
          ]
        }
      ],
      "source": [
        "net.SGD(training_data, 20, 10, 3.0, test_data=test_data) # процедура обучения созданной нейронной сети, включающая 30 эпох\n",
        "# Параметры, указанные при вызове метода SGD:\n",
        "# обучающая выборка\n",
        "# количество эпох обучения\n",
        "# размер подвыборки\n",
        "# скорость обучения\n",
        "# тестирующая выборка\n",
        "# Обучение может занять несколько минут. В ходе обучения будет выдаваться информация о пройденных эпохах.\n",
        "# Для каждой эпохи выводится отношение количества правильно распознанных цифр к общему количеству цифр в тестовой выборке.\n",
        "# Например, запись Epoch 6: 9374 / 10000 говорит о том, что в результате\n",
        "# эпохи обучения с номером 6 достигнута точность распознавания ≈ 0.94, что составляет 94%."
      ],
      "id": "71924307"
    },
    {
      "cell_type": "code",
      "execution_count": 59,
      "metadata": {
        "id": "5d0ee3d8",
        "outputId": "1f630880-ba00-4552-eb7d-5fc1d70b4e4f",
        "colab": {
          "base_uri": "https://localhost:8080/",
          "height": 1000
        }
      },
      "outputs": [
        {
          "output_type": "stream",
          "name": "stdout",
          "text": [
            "0.bmp\n"
          ]
        },
        {
          "output_type": "display_data",
          "data": {
            "text/plain": [
              "<PIL.BmpImagePlugin.BmpImageFile image mode=P size=28x28>"
            ],
            "image/png": "[encoded data removed]"
          },
          "metadata": {}
        },
        {
          "output_type": "stream",
          "name": "stdout",
          "text": [
            "[[9.99512219e-01]\n",
            " [2.46478501e-12]\n",
            " [8.78418864e-06]\n",
            " [5.42447769e-10]\n",
            " [2.60051566e-08]\n",
            " [1.04487752e-02]\n",
            " [9.90068022e-09]\n",
            " [1.16790606e-06]\n",
            " [1.62679131e-07]\n",
            " [8.05429722e-05]]\n",
            "\n",
            "1.bmp\n"
          ]
        },
        {
          "output_type": "display_data",
          "data": {
            "text/plain": [
              "<PIL.BmpImagePlugin.BmpImageFile image mode=P size=28x28>"
            ],
            "image/png": "[encoded data removed]"
          },
          "metadata": {}
        },
        {
          "output_type": "stream",
          "name": "stdout",
          "text": [
            "[[5.53773579e-09]\n",
            " [7.25042413e-14]\n",
            " [1.36952375e-09]\n",
            " [9.00062941e-03]\n",
            " [4.37264293e-09]\n",
            " [1.68181928e-12]\n",
            " [5.51030234e-15]\n",
            " [2.05419052e-01]\n",
            " [2.04516813e-08]\n",
            " [1.90338332e-01]]\n",
            "\n",
            "2.bmp\n"
          ]
        },
        {
          "output_type": "display_data",
          "data": {
            "text/plain": [
              "<PIL.BmpImagePlugin.BmpImageFile image mode=P size=28x28>"
            ],
            "image/png": "[encoded data removed]"
          },
          "metadata": {}
        },
        {
          "output_type": "stream",
          "name": "stdout",
          "text": [
            "[[1.12047242e-10]\n",
            " [3.81427325e-06]\n",
            " [8.91922843e-06]\n",
            " [6.71435274e-01]\n",
            " [1.60840873e-06]\n",
            " [1.18577156e-06]\n",
            " [2.07982884e-16]\n",
            " [2.06133626e-02]\n",
            " [6.25740341e-10]\n",
            " [1.69021736e-04]]\n",
            "\n",
            "3.bmp\n"
          ]
        },
        {
          "output_type": "display_data",
          "data": {
            "text/plain": [
              "<PIL.BmpImagePlugin.BmpImageFile image mode=P size=28x28>"
            ],
            "image/png": "[encoded data removed]"
          },
          "metadata": {}
        },
        {
          "output_type": "stream",
          "name": "stdout",
          "text": [
            "[[1.77103561e-06]\n",
            " [4.25526236e-15]\n",
            " [3.99119347e-01]\n",
            " [9.82824526e-01]\n",
            " [3.30505741e-10]\n",
            " [1.46205048e-06]\n",
            " [3.45720399e-14]\n",
            " [9.62474393e-10]\n",
            " [2.84840829e-06]\n",
            " [3.59503242e-03]]\n",
            "\n",
            "4.bmp\n"
          ]
        },
        {
          "output_type": "display_data",
          "data": {
            "text/plain": [
              "<PIL.BmpImagePlugin.BmpImageFile image mode=P size=28x28>"
            ],
            "image/png": "[encoded data removed]"
          },
          "metadata": {}
        },
        {
          "output_type": "stream",
          "name": "stdout",
          "text": [
            "[[1.27643306e-11]\n",
            " [8.09906271e-11]\n",
            " [1.21898453e-09]\n",
            " [3.57924854e-10]\n",
            " [9.99967228e-01]\n",
            " [2.84168807e-11]\n",
            " [7.65646789e-08]\n",
            " [3.19271493e-06]\n",
            " [2.85430368e-11]\n",
            " [5.00862000e-07]]\n",
            "\n",
            "5.bmp\n"
          ]
        },
        {
          "output_type": "display_data",
          "data": {
            "text/plain": [
              "<PIL.BmpImagePlugin.BmpImageFile image mode=P size=28x28>"
            ],
            "image/png": "[encoded data removed]"
          },
          "metadata": {}
        },
        {
          "output_type": "stream",
          "name": "stdout",
          "text": [
            "[[4.01202139e-11]\n",
            " [1.39436026e-18]\n",
            " [1.41594162e-05]\n",
            " [2.09985916e-06]\n",
            " [2.01625556e-01]\n",
            " [8.81619980e-05]\n",
            " [1.44111852e-05]\n",
            " [1.94102242e-08]\n",
            " [2.77622660e-01]\n",
            " [7.60010057e-03]]\n",
            "\n",
            "6.bmp\n"
          ]
        },
        {
          "output_type": "display_data",
          "data": {
            "text/plain": [
              "<PIL.BmpImagePlugin.BmpImageFile image mode=P size=28x28>"
            ],
            "image/png": "[encoded data removed]"
          },
          "metadata": {}
        },
        {
          "output_type": "stream",
          "name": "stdout",
          "text": [
            "[[6.68808807e-06]\n",
            " [1.29616101e-11]\n",
            " [2.72456499e-03]\n",
            " [1.36483641e-09]\n",
            " [2.23389707e-07]\n",
            " [5.97141448e-01]\n",
            " [6.27974786e-01]\n",
            " [1.25903613e-15]\n",
            " [3.27020579e-08]\n",
            " [2.88874981e-07]]\n",
            "\n",
            "7.bmp\n"
          ]
        },
        {
          "output_type": "display_data",
          "data": {
            "text/plain": [
              "<PIL.BmpImagePlugin.BmpImageFile image mode=P size=28x28>"
            ],
            "image/png": "[encoded data removed]"
          },
          "metadata": {}
        },
        {
          "output_type": "stream",
          "name": "stdout",
          "text": [
            "[[5.75607896e-09]\n",
            " [2.90310514e-14]\n",
            " [7.54450759e-01]\n",
            " [2.98719463e-03]\n",
            " [1.57299200e-13]\n",
            " [1.38876564e-06]\n",
            " [8.59854333e-11]\n",
            " [6.12889272e-08]\n",
            " [1.12422289e-05]\n",
            " [5.42513001e-06]]\n",
            "\n",
            "8.bmp\n"
          ]
        },
        {
          "output_type": "display_data",
          "data": {
            "text/plain": [
              "<PIL.BmpImagePlugin.BmpImageFile image mode=P size=28x28>"
            ],
            "image/png": "[encoded data removed]"
          },
          "metadata": {}
        },
        {
          "output_type": "stream",
          "name": "stdout",
          "text": [
            "[[1.17074870e-07]\n",
            " [1.71133292e-12]\n",
            " [4.48532805e-04]\n",
            " [1.94910389e-04]\n",
            " [6.43555253e-08]\n",
            " [4.95450358e-05]\n",
            " [2.00873128e-08]\n",
            " [2.23021797e-11]\n",
            " [9.99892916e-01]\n",
            " [4.15180315e-02]]\n",
            "\n",
            "9.bmp\n"
          ]
        },
        {
          "output_type": "display_data",
          "data": {
            "text/plain": [
              "<PIL.BmpImagePlugin.BmpImageFile image mode=P size=28x28>"
            ],
            "image/png": "[encoded data removed]"
          },
          "metadata": {}
        },
        {
          "output_type": "stream",
          "name": "stdout",
          "text": [
            "[[3.03664315e-08]\n",
            " [3.83270096e-09]\n",
            " [1.99643706e-08]\n",
            " [2.91352998e-02]\n",
            " [1.63147940e-09]\n",
            " [9.11965932e-01]\n",
            " [1.73962873e-06]\n",
            " [1.04941332e-15]\n",
            " [1.26006615e-01]\n",
            " [8.78205646e-06]]\n",
            "\n"
          ]
        }
      ],
      "source": [
        "from PIL import Image\n",
        "import numpy\n",
        "\n",
        "for index in range(10):\n",
        "    as_str = str(index)\n",
        "    as_str += \".bmp\"\n",
        "    im=Image.open(as_str)\n",
        "    testArray=numpy.ndarray(shape=(784, 1), dtype=float, order='F')       #создание контейнера для копирования значения пикселей изображения\n",
        "\n",
        "    #операция копирования в контейнер пикселей изображения\n",
        "    for i2 in range(28):\n",
        "        for i1 in range(28):\n",
        "            if (im.getpixel((i1, i2))) / 255 > 0:\n",
        "                #вынужден был применять костыль, т.к. 1 в значении пикселей нейросеть неадекватно воспринимает\n",
        "                testArray[i1 + i2 * 28, 0] = (im.getpixel((i1, i2))) / 255 - 0.001\n",
        "            else:\n",
        "                testArray[i1 + i2 * 28,0] = (im.getpixel((i1, i2))) / 255\n",
        "\n",
        "    netSm = Network([784, 30, 10])                #создаем нейросеть с обученными весами и смещениями\n",
        "    print(as_str)\n",
        "    display(im)\n",
        "    print(netSm.feedforward(testArray))           #распознаем изображение с помощью нейросети\n",
        "    print()"
      ],
      "id": "5d0ee3d8"
    }
  ],
  "metadata": {
    "colab": {
      "provenance": []
    },
    "kernelspec": {
      "display_name": "Python 3 (ipykernel)",
      "language": "python",
      "name": "python3"
    },
    "language_info": {
      "codemirror_mode": {
        "name": "ipython",
        "version": 3
      },
      "file_extension": ".py",
      "mimetype": "text/x-python",
      "name": "python",
      "nbconvert_exporter": "python",
      "pygments_lexer": "ipython3",
      "version": "3.9.12"
    }
  },
  "nbformat": 4,
  "nbformat_minor": 5
}