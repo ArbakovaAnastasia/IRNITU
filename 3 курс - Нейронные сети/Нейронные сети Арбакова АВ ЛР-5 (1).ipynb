{
  "metadata": {
    "kernelspec": {
      "display_name": "Python 3",
      "language": "python",
      "name": "python3"
    },
    "language_info": {
      "name": "python",
      "version": "3.6.4",
      "mimetype": "text/x-python",
      "codemirror_mode": {
        "name": "ipython",
        "version": 3
      },
      "pygments_lexer": "ipython3",
      "nbconvert_exporter": "python",
      "file_extension": ".py"
    },
    "colab": {
      "provenance": []
    }
  },
  "nbformat_minor": 0,
  "nbformat": 4,
  "cells": [
    {
      "cell_type": "markdown",
      "source": [
        "# Лабораторная работа 5. Рекуррентные слои для данных переменной длины\n",
        "Создать рекуррентную нейросеть для анализа текста (количество уникальных слов минимум 20). Составить / найти набор тренировочных и тестовых данных.    "
      ],
      "metadata": {
        "id": "ZGhBNcW34ORe"
      }
    },
    {
      "cell_type": "code",
      "source": [
        "pip install -q kaggle # Установка Kaggle"
      ],
      "metadata": {
        "id": "iHEryYxPlRAy"
      },
      "execution_count": 1,
      "outputs": []
    },
    {
      "cell_type": "code",
      "source": [
        "pip install wget # Пакет wget для скачивания файлов из Интернета"
      ],
      "metadata": {
        "colab": {
          "base_uri": "https://localhost:8080/"
        },
        "id": "g-miUir3qPcF",
        "outputId": "570dc6e9-89a7-42df-9b87-20784d04a035"
      },
      "execution_count": 2,
      "outputs": [
        {
          "output_type": "stream",
          "name": "stdout",
          "text": [
            "Collecting wget\n",
            "  Downloading wget-3.2.zip (10 kB)\n",
            "  Preparing metadata (setup.py) ... \u001b[?25l\u001b[?25hdone\n",
            "Building wheels for collected packages: wget\n",
            "  Building wheel for wget (setup.py) ... \u001b[?25l\u001b[?25hdone\n",
            "  Created wheel for wget: filename=wget-3.2-py3-none-any.whl size=9655 sha256=b141b62fd2ed8f356a92d8b2d521cb88c5e9f306fcc189ca68e9fd58d55b0dde\n",
            "  Stored in directory: /root/.cache/pip/wheels/8b/f1/7f/5c94f0a7a505ca1c81cd1d9208ae2064675d97582078e6c769\n",
            "Successfully built wget\n",
            "Installing collected packages: wget\n",
            "Successfully installed wget-3.2\n"
          ]
        }
      ]
    },
    {
      "cell_type": "code",
      "source": [
        "# Скачивание датасетов для обучения нейроной сети\n",
        "import wget\n",
        "wget.download('http://xyla.istu.webappz.ru/neuron/lab5/kaggle.json');\n",
        "\n",
        "! cp kaggle.json ~/.kaggle/\n",
        "! chmod 600 ~/.kaggle/kaggle.json\n",
        "! kaggle datasets download -d crowdflower/twitter-airline-sentiment\n",
        "! kaggle datasets download -d rtatman/glove-global-vectors-for-word-representation\n",
        "! mkdir ../content/input\n",
        "! unzip /content/twitter-airline-sentiment.zip -d /content/input/twitter-airline-sentiment/\n",
        "! unzip /content/glove-global-vectors-for-word-representation.zip -d /content/input/glove-global-vectors-for-word-representation/"
      ],
      "metadata": {
        "colab": {
          "base_uri": "https://localhost:8080/"
        },
        "id": "vqUtLtDqnje-",
        "outputId": "63b29f05-1024-4631-821c-0b6732d3dcc1"
      },
      "execution_count": 4,
      "outputs": [
        {
          "output_type": "stream",
          "name": "stdout",
          "text": [
            "Downloading twitter-airline-sentiment.zip to /content\n",
            "100% 2.55M/2.55M [00:00<00:00, 5.01MB/s]\n",
            "100% 2.55M/2.55M [00:00<00:00, 4.29MB/s]\n",
            "Downloading glove-global-vectors-for-word-representation.zip to /content\n",
            "100% 458M/458M [00:16<00:00, 23.2MB/s]\n",
            "100% 458M/458M [00:16<00:00, 29.1MB/s]\n",
            "mkdir: cannot create directory ‘../content/input’: File exists\n",
            "Archive:  /content/twitter-airline-sentiment.zip\n",
            "  inflating: /content/input/twitter-airline-sentiment/Tweets.csv  \n",
            "  inflating: /content/input/twitter-airline-sentiment/database.sqlite  \n",
            "Archive:  /content/glove-global-vectors-for-word-representation.zip\n",
            "  inflating: /content/input/glove-global-vectors-for-word-representation/glove.6B.100d.txt  \n",
            "  inflating: /content/input/glove-global-vectors-for-word-representation/glove.6B.200d.txt  \n",
            "  inflating: /content/input/glove-global-vectors-for-word-representation/glove.6B.50d.txt  \n"
          ]
        }
      ]
    },
    {
      "cell_type": "code",
      "source": [
        "# Импортируем библиотеки\n",
        "import os\n",
        "import numpy as np\n",
        "import pandas as pd\n",
        "import re\n",
        "from keras.models import Model\n",
        "from keras.layers import Dense, Input, Dropout, LSTM, Activation\n",
        "from tensorflow.keras.layers import Embedding\n",
        "from keras.preprocessing import sequence\n",
        "from keras.initializers import glorot_uniform\n",
        "from keras.utils import to_categorical\n",
        "from keras.callbacks import EarlyStopping\n",
        "from nltk.corpus import stopwords\n",
        "np.random.seed(1)\n",
        "from sklearn.model_selection import train_test_split\n",
        "import matplotlib.pyplot as plt\n",
        "%matplotlib inline"
      ],
      "metadata": {
        "_cell_guid": "79c7e3d0-c299-4dcb-8224-4455121ee9b0",
        "_uuid": "d629ff2d2480ee46fbb7e2d37f6b5fab8052498a",
        "collapsed": true,
        "jupyter": {
          "outputs_hidden": true
        },
        "trusted": true,
        "id": "F3kpffnOjTZc"
      },
      "execution_count": 5,
      "outputs": []
    },
    {
      "cell_type": "code",
      "source": [
        "# Функция для удаления Стоп-слов т.е предлогов, суффиксов. Пример: for, an, nor, but, or, yet, so\n",
        "\n",
        "def remove_stopwords(input_text):\n",
        "    stopwords_list = stopwords.words('english')\n",
        "    # Некоторые слова, которые могут указывать на определенное настроение, сохраняются в белом списке\n",
        "    whitelist = [\"n't\", \"not\", \"no\"]\n",
        "    words = input_text.split()\n",
        "    clean_words = [word for word in words if (word not in stopwords_list or word in whitelist) and len(word) > 1]\n",
        "    return \" \".join(clean_words)\n",
        "\n",
        "# Функция для удаления тега обращения. Пример: @VirginAmerica did you know =>   did you know\n",
        "def remove_mentions(input_text):\n",
        "    return re.sub(r'@\\w+', '', input_text)"
      ],
      "metadata": {
        "_uuid": "ad9ce6fdde97ea84f88ede6d94777e4be17212db",
        "collapsed": true,
        "jupyter": {
          "outputs_hidden": true
        },
        "trusted": true,
        "id": "yXSpCRBcjTZd"
      },
      "execution_count": 6,
      "outputs": []
    },
    {
      "cell_type": "code",
      "source": [
        "#Чтение датасета\n",
        "train_df = pd.read_csv(\"../content/input/twitter-airline-sentiment/Tweets.csv\")\n",
        "train_df.head()"
      ],
      "metadata": {
        "_uuid": "d87ec5f83dbd2b88e99009488183a25f0a3c0e42",
        "trusted": true,
        "id": "pm51O-wtjTZd",
        "colab": {
          "base_uri": "https://localhost:8080/",
          "height": 452
        },
        "outputId": "786ed8e2-c68e-417d-ca55-b771c60a64f2"
      },
      "execution_count": 7,
      "outputs": [
        {
          "output_type": "execute_result",
          "data": {
            "text/plain": [
              "             tweet_id airline_sentiment  airline_sentiment_confidence  \\\n",
              "0  570306133677760513           neutral                        1.0000   \n",
              "1  570301130888122368          positive                        0.3486   \n",
              "2  570301083672813571           neutral                        0.6837   \n",
              "3  570301031407624196          negative                        1.0000   \n",
              "4  570300817074462722          negative                        1.0000   \n",
              "\n",
              "  negativereason  negativereason_confidence         airline  \\\n",
              "0            NaN                        NaN  Virgin America   \n",
              "1            NaN                     0.0000  Virgin America   \n",
              "2            NaN                        NaN  Virgin America   \n",
              "3     Bad Flight                     0.7033  Virgin America   \n",
              "4     Can't Tell                     1.0000  Virgin America   \n",
              "\n",
              "  airline_sentiment_gold        name negativereason_gold  retweet_count  \\\n",
              "0                    NaN     cairdin                 NaN              0   \n",
              "1                    NaN    jnardino                 NaN              0   \n",
              "2                    NaN  yvonnalynn                 NaN              0   \n",
              "3                    NaN    jnardino                 NaN              0   \n",
              "4                    NaN    jnardino                 NaN              0   \n",
              "\n",
              "                                                text tweet_coord  \\\n",
              "0                @VirginAmerica What @dhepburn said.         NaN   \n",
              "1  @VirginAmerica plus you've added commercials t...         NaN   \n",
              "2  @VirginAmerica I didn't today... Must mean I n...         NaN   \n",
              "3  @VirginAmerica it's really aggressive to blast...         NaN   \n",
              "4  @VirginAmerica and it's a really big bad thing...         NaN   \n",
              "\n",
              "               tweet_created tweet_location               user_timezone  \n",
              "0  2015-02-24 11:35:52 -0800            NaN  Eastern Time (US & Canada)  \n",
              "1  2015-02-24 11:15:59 -0800            NaN  Pacific Time (US & Canada)  \n",
              "2  2015-02-24 11:15:48 -0800      Lets Play  Central Time (US & Canada)  \n",
              "3  2015-02-24 11:15:36 -0800            NaN  Pacific Time (US & Canada)  \n",
              "4  2015-02-24 11:14:45 -0800            NaN  Pacific Time (US & Canada)  "
            ],
            "text/html": [
              "\n",
              "  <div id=\"df-2cc90038-90f2-484f-9b48-940062e431b6\" class=\"colab-df-container\">\n",
              "    <div>\n",
              "<style scoped>\n",
              "    .dataframe tbody tr th:only-of-type {\n",
              "        vertical-align: middle;\n",
              "    }\n",
              "\n",
              "    .dataframe tbody tr th {\n",
              "        vertical-align: top;\n",
              "    }\n",
              "\n",
              "    .dataframe thead th {\n",
              "        text-align: right;\n",
              "    }\n",
              "</style>\n",
              "<table border=\"1\" class=\"dataframe\">\n",
              "  <thead>\n",
              "    <tr style=\"text-align: right;\">\n",
              "      <th></th>\n",
              "      <th>tweet_id</th>\n",
              "      <th>airline_sentiment</th>\n",
              "      <th>airline_sentiment_confidence</th>\n",
              "      <th>negativereason</th>\n",
              "      <th>negativereason_confidence</th>\n",
              "      <th>airline</th>\n",
              "      <th>airline_sentiment_gold</th>\n",
              "      <th>name</th>\n",
              "      <th>negativereason_gold</th>\n",
              "      <th>retweet_count</th>\n",
              "      <th>text</th>\n",
              "      <th>tweet_coord</th>\n",
              "      <th>tweet_created</th>\n",
              "      <th>tweet_location</th>\n",
              "      <th>user_timezone</th>\n",
              "    </tr>\n",
              "  </thead>\n",
              "  <tbody>\n",
              "    <tr>\n",
              "      <th>0</th>\n",
              "      <td>570306133677760513</td>\n",
              "      <td>neutral</td>\n",
              "      <td>1.0000</td>\n",
              "      <td>NaN</td>\n",
              "      <td>NaN</td>\n",
              "      <td>Virgin America</td>\n",
              "      <td>NaN</td>\n",
              "      <td>cairdin</td>\n",
              "      <td>NaN</td>\n",
              "      <td>0</td>\n",
              "      <td>@VirginAmerica What @dhepburn said.</td>\n",
              "      <td>NaN</td>\n",
              "      <td>2015-02-24 11:35:52 -0800</td>\n",
              "      <td>NaN</td>\n",
              "      <td>Eastern Time (US &amp; Canada)</td>\n",
              "    </tr>\n",
              "    <tr>\n",
              "      <th>1</th>\n",
              "      <td>570301130888122368</td>\n",
              "      <td>positive</td>\n",
              "      <td>0.3486</td>\n",
              "      <td>NaN</td>\n",
              "      <td>0.0000</td>\n",
              "      <td>Virgin America</td>\n",
              "      <td>NaN</td>\n",
              "      <td>jnardino</td>\n",
              "      <td>NaN</td>\n",
              "      <td>0</td>\n",
              "      <td>@VirginAmerica plus you've added commercials t...</td>\n",
              "      <td>NaN</td>\n",
              "      <td>2015-02-24 11:15:59 -0800</td>\n",
              "      <td>NaN</td>\n",
              "      <td>Pacific Time (US &amp; Canada)</td>\n",
              "    </tr>\n",
              "    <tr>\n",
              "      <th>2</th>\n",
              "      <td>570301083672813571</td>\n",
              "      <td>neutral</td>\n",
              "      <td>0.6837</td>\n",
              "      <td>NaN</td>\n",
              "      <td>NaN</td>\n",
              "      <td>Virgin America</td>\n",
              "      <td>NaN</td>\n",
              "      <td>yvonnalynn</td>\n",
              "      <td>NaN</td>\n",
              "      <td>0</td>\n",
              "      <td>@VirginAmerica I didn't today... Must mean I n...</td>\n",
              "      <td>NaN</td>\n",
              "      <td>2015-02-24 11:15:48 -0800</td>\n",
              "      <td>Lets Play</td>\n",
              "      <td>Central Time (US &amp; Canada)</td>\n",
              "    </tr>\n",
              "    <tr>\n",
              "      <th>3</th>\n",
              "      <td>570301031407624196</td>\n",
              "      <td>negative</td>\n",
              "      <td>1.0000</td>\n",
              "      <td>Bad Flight</td>\n",
              "      <td>0.7033</td>\n",
              "      <td>Virgin America</td>\n",
              "      <td>NaN</td>\n",
              "      <td>jnardino</td>\n",
              "      <td>NaN</td>\n",
              "      <td>0</td>\n",
              "      <td>@VirginAmerica it's really aggressive to blast...</td>\n",
              "      <td>NaN</td>\n",
              "      <td>2015-02-24 11:15:36 -0800</td>\n",
              "      <td>NaN</td>\n",
              "      <td>Pacific Time (US &amp; Canada)</td>\n",
              "    </tr>\n",
              "    <tr>\n",
              "      <th>4</th>\n",
              "      <td>570300817074462722</td>\n",
              "      <td>negative</td>\n",
              "      <td>1.0000</td>\n",
              "      <td>Can't Tell</td>\n",
              "      <td>1.0000</td>\n",
              "      <td>Virgin America</td>\n",
              "      <td>NaN</td>\n",
              "      <td>jnardino</td>\n",
              "      <td>NaN</td>\n",
              "      <td>0</td>\n",
              "      <td>@VirginAmerica and it's a really big bad thing...</td>\n",
              "      <td>NaN</td>\n",
              "      <td>2015-02-24 11:14:45 -0800</td>\n",
              "      <td>NaN</td>\n",
              "      <td>Pacific Time (US &amp; Canada)</td>\n",
              "    </tr>\n",
              "  </tbody>\n",
              "</table>\n",
              "</div>\n",
              "    <div class=\"colab-df-buttons\">\n",
              "\n",
              "  <div class=\"colab-df-container\">\n",
              "    <button class=\"colab-df-convert\" onclick=\"convertToInteractive('df-2cc90038-90f2-484f-9b48-940062e431b6')\"\n",
              "            title=\"Convert this dataframe to an interactive table.\"\n",
              "            style=\"display:none;\">\n",
              "\n",
              "  <svg xmlns=\"http://www.w3.org/2000/svg\" height=\"24px\" viewBox=\"0 -960 960 960\">\n",
              "    <path d=\"M120-120v-720h720v720H120Zm60-500h600v-160H180v160Zm220 220h160v-160H400v160Zm0 220h160v-160H400v160ZM180-400h160v-160H180v160Zm440 0h160v-160H620v160ZM180-180h160v-160H180v160Zm440 0h160v-160H620v160Z\"/>\n",
              "  </svg>\n",
              "    </button>\n",
              "\n",
              "  <style>\n",
              "    .colab-df-container {\n",
              "      display:flex;\n",
              "      gap: 12px;\n",
              "    }\n",
              "\n",
              "    .colab-df-convert {\n",
              "      background-color: #E8F0FE;\n",
              "      border: none;\n",
              "      border-radius: 50%;\n",
              "      cursor: pointer;\n",
              "      display: none;\n",
              "      fill: #1967D2;\n",
              "      height: 32px;\n",
              "      padding: 0 0 0 0;\n",
              "      width: 32px;\n",
              "    }\n",
              "\n",
              "    .colab-df-convert:hover {\n",
              "      background-color: #E2EBFA;\n",
              "      box-shadow: 0px 1px 2px rgba(60, 64, 67, 0.3), 0px 1px 3px 1px rgba(60, 64, 67, 0.15);\n",
              "      fill: #174EA6;\n",
              "    }\n",
              "\n",
              "    .colab-df-buttons div {\n",
              "      margin-bottom: 4px;\n",
              "    }\n",
              "\n",
              "    [theme=dark] .colab-df-convert {\n",
              "      background-color: #3B4455;\n",
              "      fill: #D2E3FC;\n",
              "    }\n",
              "\n",
              "    [theme=dark] .colab-df-convert:hover {\n",
              "      background-color: #434B5C;\n",
              "      box-shadow: 0px 1px 3px 1px rgba(0, 0, 0, 0.15);\n",
              "      filter: drop-shadow(0px 1px 2px rgba(0, 0, 0, 0.3));\n",
              "      fill: #FFFFFF;\n",
              "    }\n",
              "  </style>\n",
              "\n",
              "    <script>\n",
              "      const buttonEl =\n",
              "        document.querySelector('#df-2cc90038-90f2-484f-9b48-940062e431b6 button.colab-df-convert');\n",
              "      buttonEl.style.display =\n",
              "        google.colab.kernel.accessAllowed ? 'block' : 'none';\n",
              "\n",
              "      async function convertToInteractive(key) {\n",
              "        const element = document.querySelector('#df-2cc90038-90f2-484f-9b48-940062e431b6');\n",
              "        const dataTable =\n",
              "          await google.colab.kernel.invokeFunction('convertToInteractive',\n",
              "                                                    [key], {});\n",
              "        if (!dataTable) return;\n",
              "\n",
              "        const docLinkHtml = 'Like what you see? Visit the ' +\n",
              "          '<a target=\"_blank\" href=https://colab.research.google.com/notebooks/data_table.ipynb>data table notebook</a>'\n",
              "          + ' to learn more about interactive tables.';\n",
              "        element.innerHTML = '';\n",
              "        dataTable['output_type'] = 'display_data';\n",
              "        await google.colab.output.renderOutput(dataTable, element);\n",
              "        const docLink = document.createElement('div');\n",
              "        docLink.innerHTML = docLinkHtml;\n",
              "        element.appendChild(docLink);\n",
              "      }\n",
              "    </script>\n",
              "  </div>\n",
              "\n",
              "\n",
              "<div id=\"df-e9fc4f52-5170-4d55-b0a5-a46127fb59d4\">\n",
              "  <button class=\"colab-df-quickchart\" onclick=\"quickchart('df-e9fc4f52-5170-4d55-b0a5-a46127fb59d4')\"\n",
              "            title=\"Suggest charts.\"\n",
              "            style=\"display:none;\">\n",
              "\n",
              "<svg xmlns=\"http://www.w3.org/2000/svg\" height=\"24px\"viewBox=\"0 0 24 24\"\n",
              "     width=\"24px\">\n",
              "    <g>\n",
              "        <path d=\"M19 3H5c-1.1 0-2 .9-2 2v14c0 1.1.9 2 2 2h14c1.1 0 2-.9 2-2V5c0-1.1-.9-2-2-2zM9 17H7v-7h2v7zm4 0h-2V7h2v10zm4 0h-2v-4h2v4z\"/>\n",
              "    </g>\n",
              "</svg>\n",
              "  </button>\n",
              "\n",
              "<style>\n",
              "  .colab-df-quickchart {\n",
              "      --bg-color: #E8F0FE;\n",
              "      --fill-color: #1967D2;\n",
              "      --hover-bg-color: #E2EBFA;\n",
              "      --hover-fill-color: #174EA6;\n",
              "      --disabled-fill-color: #AAA;\n",
              "      --disabled-bg-color: #DDD;\n",
              "  }\n",
              "\n",
              "  [theme=dark] .colab-df-quickchart {\n",
              "      --bg-color: #3B4455;\n",
              "      --fill-color: #D2E3FC;\n",
              "      --hover-bg-color: #434B5C;\n",
              "      --hover-fill-color: #FFFFFF;\n",
              "      --disabled-bg-color: #3B4455;\n",
              "      --disabled-fill-color: #666;\n",
              "  }\n",
              "\n",
              "  .colab-df-quickchart {\n",
              "    background-color: var(--bg-color);\n",
              "    border: none;\n",
              "    border-radius: 50%;\n",
              "    cursor: pointer;\n",
              "    display: none;\n",
              "    fill: var(--fill-color);\n",
              "    height: 32px;\n",
              "    padding: 0;\n",
              "    width: 32px;\n",
              "  }\n",
              "\n",
              "  .colab-df-quickchart:hover {\n",
              "    background-color: var(--hover-bg-color);\n",
              "    box-shadow: 0 1px 2px rgba(60, 64, 67, 0.3), 0 1px 3px 1px rgba(60, 64, 67, 0.15);\n",
              "    fill: var(--button-hover-fill-color);\n",
              "  }\n",
              "\n",
              "  .colab-df-quickchart-complete:disabled,\n",
              "  .colab-df-quickchart-complete:disabled:hover {\n",
              "    background-color: var(--disabled-bg-color);\n",
              "    fill: var(--disabled-fill-color);\n",
              "    box-shadow: none;\n",
              "  }\n",
              "\n",
              "  .colab-df-spinner {\n",
              "    border: 2px solid var(--fill-color);\n",
              "    border-color: transparent;\n",
              "    border-bottom-color: var(--fill-color);\n",
              "    animation:\n",
              "      spin 1s steps(1) infinite;\n",
              "  }\n",
              "\n",
              "  @keyframes spin {\n",
              "    0% {\n",
              "      border-color: transparent;\n",
              "      border-bottom-color: var(--fill-color);\n",
              "      border-left-color: var(--fill-color);\n",
              "    }\n",
              "    20% {\n",
              "      border-color: transparent;\n",
              "      border-left-color: var(--fill-color);\n",
              "      border-top-color: var(--fill-color);\n",
              "    }\n",
              "    30% {\n",
              "      border-color: transparent;\n",
              "      border-left-color: var(--fill-color);\n",
              "      border-top-color: var(--fill-color);\n",
              "      border-right-color: var(--fill-color);\n",
              "    }\n",
              "    40% {\n",
              "      border-color: transparent;\n",
              "      border-right-color: var(--fill-color);\n",
              "      border-top-color: var(--fill-color);\n",
              "    }\n",
              "    60% {\n",
              "      border-color: transparent;\n",
              "      border-right-color: var(--fill-color);\n",
              "    }\n",
              "    80% {\n",
              "      border-color: transparent;\n",
              "      border-right-color: var(--fill-color);\n",
              "      border-bottom-color: var(--fill-color);\n",
              "    }\n",
              "    90% {\n",
              "      border-color: transparent;\n",
              "      border-bottom-color: var(--fill-color);\n",
              "    }\n",
              "  }\n",
              "</style>\n",
              "\n",
              "  <script>\n",
              "    async function quickchart(key) {\n",
              "      const quickchartButtonEl =\n",
              "        document.querySelector('#' + key + ' button');\n",
              "      quickchartButtonEl.disabled = true;  // To prevent multiple clicks.\n",
              "      quickchartButtonEl.classList.add('colab-df-spinner');\n",
              "      try {\n",
              "        const charts = await google.colab.kernel.invokeFunction(\n",
              "            'suggestCharts', [key], {});\n",
              "      } catch (error) {\n",
              "        console.error('Error during call to suggestCharts:', error);\n",
              "      }\n",
              "      quickchartButtonEl.classList.remove('colab-df-spinner');\n",
              "      quickchartButtonEl.classList.add('colab-df-quickchart-complete');\n",
              "    }\n",
              "    (() => {\n",
              "      let quickchartButtonEl =\n",
              "        document.querySelector('#df-e9fc4f52-5170-4d55-b0a5-a46127fb59d4 button');\n",
              "      quickchartButtonEl.style.display =\n",
              "        google.colab.kernel.accessAllowed ? 'block' : 'none';\n",
              "    })();\n",
              "  </script>\n",
              "</div>\n",
              "    </div>\n",
              "  </div>\n"
            ]
          },
          "metadata": {},
          "execution_count": 7
        }
      ]
    },
    {
      "cell_type": "code",
      "source": [
        "#Создание массива Настроений\n",
        "Mood = train_df['airline_sentiment'].value_counts()"
      ],
      "metadata": {
        "_uuid": "d5d53c951bc2d9110a4f30db67dda95da0645e15",
        "trusted": true,
        "id": "vIJH-Fv5jTZe"
      },
      "execution_count": 8,
      "outputs": []
    },
    {
      "cell_type": "code",
      "source": [
        "# Отобразим полученный массив\n",
        "index = [1,2,3]\n",
        "plt.bar(index,Mood,color=['r','b','g'])\n",
        "plt.xticks(index,['Негативное','Нейтральное','Позитивное'])\n",
        "plt.xlabel('Настроение')\n",
        "plt.ylabel('Количество')\n",
        "plt.title('Распределение настроений')"
      ],
      "metadata": {
        "_uuid": "11f87199bbe3fd9efc432cf405f3ecd97404dc5a",
        "trusted": true,
        "id": "X2ByjsAjjTZe",
        "colab": {
          "base_uri": "https://localhost:8080/",
          "height": 489
        },
        "outputId": "d5aecb19-65b4-4246-c24b-6a0496aca9f7"
      },
      "execution_count": 9,
      "outputs": [
        {
          "output_type": "execute_result",
          "data": {
            "text/plain": [
              "Text(0.5, 1.0, 'Распределение настроений')"
            ]
          },
          "metadata": {},
          "execution_count": 9
        },
        {
          "output_type": "display_data",
          "data": {
            "text/plain": [
              "<Figure size 640x480 with 1 Axes>"
            ],
            "image/png": "[encoded data removed]"
          },
          "metadata": {}
        }
      ]
    },
    {
      "cell_type": "code",
      "source": [
        "# Разделим массив настроений по авиалиниям\n",
        "\n",
        "def plot_sub_sentiment(Airline):\n",
        "    pdf = train_df[train_df['airline']==Airline]\n",
        "    count = pdf['airline_sentiment'].value_counts()\n",
        "    Index = [1,2,3]\n",
        "    color = ['red','blue','green']\n",
        "    plt.bar(Index,count,width=0.5,color=color)\n",
        "    plt.xticks(Index,['Негативное','Нетральное','Позитивное'])\n",
        "    plt.title('Распределие настроений у авиалинии: '+ Airline)\n",
        "airline_name = train_df['airline'].unique()\n",
        "plt.figure(1,figsize=(12,12))\n",
        "for i in range(6):\n",
        "    plt.subplot(3,2,i+1)\n",
        "    plot_sub_sentiment(airline_name[i])\n",
        "plt.show()"
      ],
      "metadata": {
        "_uuid": "7922bd79bb8ae24012820c369347c469ea00220d",
        "trusted": true,
        "id": "H8wsLYerjTZf",
        "colab": {
          "base_uri": "https://localhost:8080/",
          "height": 1000
        },
        "outputId": "06b80adf-f2bb-484e-8540-39b981c648a9"
      },
      "execution_count": 10,
      "outputs": [
        {
          "output_type": "display_data",
          "data": {
            "text/plain": [
              "<Figure size 1200x1200 with 6 Axes>"
            ],
            "image/png": "[encoded data removed]"
          },
          "metadata": {}
        }
      ]
    },
    {
      "cell_type": "code",
      "source": [
        "#Стандартизация датасета\n",
        "train_df = train_df[['text', 'airline_sentiment']]\n",
        "train_df.text = train_df.text.apply(remove_mentions)\n",
        "train_df.loc[:,'sentiment'] = train_df.airline_sentiment.map({'negative':0,'neutral':1,'positive':2})\n",
        "train_df = train_df.drop(['airline_sentiment'], axis=1)\n",
        "train_df.head()"
      ],
      "metadata": {
        "_uuid": "8df70c80ca88edf7bbe74cbab0f554cf92efbe2c",
        "trusted": true,
        "id": "FkclwJ88jTZf",
        "colab": {
          "base_uri": "https://localhost:8080/",
          "height": 414
        },
        "outputId": "e2dcfc9e-3f61-4aa3-f6df-77097caa8a1a"
      },
      "execution_count": 11,
      "outputs": [
        {
          "output_type": "stream",
          "name": "stderr",
          "text": [
            "<ipython-input-11-d7c9259629ae>:3: SettingWithCopyWarning: \n",
            "A value is trying to be set on a copy of a slice from a DataFrame.\n",
            "Try using .loc[row_indexer,col_indexer] = value instead\n",
            "\n",
            "See the caveats in the documentation: https://pandas.pydata.org/pandas-docs/stable/user_guide/indexing.html#returning-a-view-versus-a-copy\n",
            "  train_df.text = train_df.text.apply(remove_mentions)\n",
            "<ipython-input-11-d7c9259629ae>:4: SettingWithCopyWarning: \n",
            "A value is trying to be set on a copy of a slice from a DataFrame.\n",
            "Try using .loc[row_indexer,col_indexer] = value instead\n",
            "\n",
            "See the caveats in the documentation: https://pandas.pydata.org/pandas-docs/stable/user_guide/indexing.html#returning-a-view-versus-a-copy\n",
            "  train_df.loc[:,'sentiment'] = train_df.airline_sentiment.map({'negative':0,'neutral':1,'positive':2})\n"
          ]
        },
        {
          "output_type": "execute_result",
          "data": {
            "text/plain": [
              "                                                text  sentiment\n",
              "0                                        What  said.          1\n",
              "1   plus you've added commercials to the experien...          2\n",
              "2   I didn't today... Must mean I need to take an...          1\n",
              "3   it's really aggressive to blast obnoxious \"en...          0\n",
              "4           and it's a really big bad thing about it          0"
            ],
            "text/html": [
              "\n",
              "  <div id=\"df-db9bd232-04a9-40d3-a147-3b6e0fde21b8\" class=\"colab-df-container\">\n",
              "    <div>\n",
              "<style scoped>\n",
              "    .dataframe tbody tr th:only-of-type {\n",
              "        vertical-align: middle;\n",
              "    }\n",
              "\n",
              "    .dataframe tbody tr th {\n",
              "        vertical-align: top;\n",
              "    }\n",
              "\n",
              "    .dataframe thead th {\n",
              "        text-align: right;\n",
              "    }\n",
              "</style>\n",
              "<table border=\"1\" class=\"dataframe\">\n",
              "  <thead>\n",
              "    <tr style=\"text-align: right;\">\n",
              "      <th></th>\n",
              "      <th>text</th>\n",
              "      <th>sentiment</th>\n",
              "    </tr>\n",
              "  </thead>\n",
              "  <tbody>\n",
              "    <tr>\n",
              "      <th>0</th>\n",
              "      <td>What  said.</td>\n",
              "      <td>1</td>\n",
              "    </tr>\n",
              "    <tr>\n",
              "      <th>1</th>\n",
              "      <td>plus you've added commercials to the experien...</td>\n",
              "      <td>2</td>\n",
              "    </tr>\n",
              "    <tr>\n",
              "      <th>2</th>\n",
              "      <td>I didn't today... Must mean I need to take an...</td>\n",
              "      <td>1</td>\n",
              "    </tr>\n",
              "    <tr>\n",
              "      <th>3</th>\n",
              "      <td>it's really aggressive to blast obnoxious \"en...</td>\n",
              "      <td>0</td>\n",
              "    </tr>\n",
              "    <tr>\n",
              "      <th>4</th>\n",
              "      <td>and it's a really big bad thing about it</td>\n",
              "      <td>0</td>\n",
              "    </tr>\n",
              "  </tbody>\n",
              "</table>\n",
              "</div>\n",
              "    <div class=\"colab-df-buttons\">\n",
              "\n",
              "  <div class=\"colab-df-container\">\n",
              "    <button class=\"colab-df-convert\" onclick=\"convertToInteractive('df-db9bd232-04a9-40d3-a147-3b6e0fde21b8')\"\n",
              "            title=\"Convert this dataframe to an interactive table.\"\n",
              "            style=\"display:none;\">\n",
              "\n",
              "  <svg xmlns=\"http://www.w3.org/2000/svg\" height=\"24px\" viewBox=\"0 -960 960 960\">\n",
              "    <path d=\"M120-120v-720h720v720H120Zm60-500h600v-160H180v160Zm220 220h160v-160H400v160Zm0 220h160v-160H400v160ZM180-400h160v-160H180v160Zm440 0h160v-160H620v160ZM180-180h160v-160H180v160Zm440 0h160v-160H620v160Z\"/>\n",
              "  </svg>\n",
              "    </button>\n",
              "\n",
              "  <style>\n",
              "    .colab-df-container {\n",
              "      display:flex;\n",
              "      gap: 12px;\n",
              "    }\n",
              "\n",
              "    .colab-df-convert {\n",
              "      background-color: #E8F0FE;\n",
              "      border: none;\n",
              "      border-radius: 50%;\n",
              "      cursor: pointer;\n",
              "      display: none;\n",
              "      fill: #1967D2;\n",
              "      height: 32px;\n",
              "      padding: 0 0 0 0;\n",
              "      width: 32px;\n",
              "    }\n",
              "\n",
              "    .colab-df-convert:hover {\n",
              "      background-color: #E2EBFA;\n",
              "      box-shadow: 0px 1px 2px rgba(60, 64, 67, 0.3), 0px 1px 3px 1px rgba(60, 64, 67, 0.15);\n",
              "      fill: #174EA6;\n",
              "    }\n",
              "\n",
              "    .colab-df-buttons div {\n",
              "      margin-bottom: 4px;\n",
              "    }\n",
              "\n",
              "    [theme=dark] .colab-df-convert {\n",
              "      background-color: #3B4455;\n",
              "      fill: #D2E3FC;\n",
              "    }\n",
              "\n",
              "    [theme=dark] .colab-df-convert:hover {\n",
              "      background-color: #434B5C;\n",
              "      box-shadow: 0px 1px 3px 1px rgba(0, 0, 0, 0.15);\n",
              "      filter: drop-shadow(0px 1px 2px rgba(0, 0, 0, 0.3));\n",
              "      fill: #FFFFFF;\n",
              "    }\n",
              "  </style>\n",
              "\n",
              "    <script>\n",
              "      const buttonEl =\n",
              "        document.querySelector('#df-db9bd232-04a9-40d3-a147-3b6e0fde21b8 button.colab-df-convert');\n",
              "      buttonEl.style.display =\n",
              "        google.colab.kernel.accessAllowed ? 'block' : 'none';\n",
              "\n",
              "      async function convertToInteractive(key) {\n",
              "        const element = document.querySelector('#df-db9bd232-04a9-40d3-a147-3b6e0fde21b8');\n",
              "        const dataTable =\n",
              "          await google.colab.kernel.invokeFunction('convertToInteractive',\n",
              "                                                    [key], {});\n",
              "        if (!dataTable) return;\n",
              "\n",
              "        const docLinkHtml = 'Like what you see? Visit the ' +\n",
              "          '<a target=\"_blank\" href=https://colab.research.google.com/notebooks/data_table.ipynb>data table notebook</a>'\n",
              "          + ' to learn more about interactive tables.';\n",
              "        element.innerHTML = '';\n",
              "        dataTable['output_type'] = 'display_data';\n",
              "        await google.colab.output.renderOutput(dataTable, element);\n",
              "        const docLink = document.createElement('div');\n",
              "        docLink.innerHTML = docLinkHtml;\n",
              "        element.appendChild(docLink);\n",
              "      }\n",
              "    </script>\n",
              "  </div>\n",
              "\n",
              "\n",
              "<div id=\"df-68eed547-13ed-454f-80b3-b4871e60daac\">\n",
              "  <button class=\"colab-df-quickchart\" onclick=\"quickchart('df-68eed547-13ed-454f-80b3-b4871e60daac')\"\n",
              "            title=\"Suggest charts.\"\n",
              "            style=\"display:none;\">\n",
              "\n",
              "<svg xmlns=\"http://www.w3.org/2000/svg\" height=\"24px\"viewBox=\"0 0 24 24\"\n",
              "     width=\"24px\">\n",
              "    <g>\n",
              "        <path d=\"M19 3H5c-1.1 0-2 .9-2 2v14c0 1.1.9 2 2 2h14c1.1 0 2-.9 2-2V5c0-1.1-.9-2-2-2zM9 17H7v-7h2v7zm4 0h-2V7h2v10zm4 0h-2v-4h2v4z\"/>\n",
              "    </g>\n",
              "</svg>\n",
              "  </button>\n",
              "\n",
              "<style>\n",
              "  .colab-df-quickchart {\n",
              "      --bg-color: #E8F0FE;\n",
              "      --fill-color: #1967D2;\n",
              "      --hover-bg-color: #E2EBFA;\n",
              "      --hover-fill-color: #174EA6;\n",
              "      --disabled-fill-color: #AAA;\n",
              "      --disabled-bg-color: #DDD;\n",
              "  }\n",
              "\n",
              "  [theme=dark] .colab-df-quickchart {\n",
              "      --bg-color: #3B4455;\n",
              "      --fill-color: #D2E3FC;\n",
              "      --hover-bg-color: #434B5C;\n",
              "      --hover-fill-color: #FFFFFF;\n",
              "      --disabled-bg-color: #3B4455;\n",
              "      --disabled-fill-color: #666;\n",
              "  }\n",
              "\n",
              "  .colab-df-quickchart {\n",
              "    background-color: var(--bg-color);\n",
              "    border: none;\n",
              "    border-radius: 50%;\n",
              "    cursor: pointer;\n",
              "    display: none;\n",
              "    fill: var(--fill-color);\n",
              "    height: 32px;\n",
              "    padding: 0;\n",
              "    width: 32px;\n",
              "  }\n",
              "\n",
              "  .colab-df-quickchart:hover {\n",
              "    background-color: var(--hover-bg-color);\n",
              "    box-shadow: 0 1px 2px rgba(60, 64, 67, 0.3), 0 1px 3px 1px rgba(60, 64, 67, 0.15);\n",
              "    fill: var(--button-hover-fill-color);\n",
              "  }\n",
              "\n",
              "  .colab-df-quickchart-complete:disabled,\n",
              "  .colab-df-quickchart-complete:disabled:hover {\n",
              "    background-color: var(--disabled-bg-color);\n",
              "    fill: var(--disabled-fill-color);\n",
              "    box-shadow: none;\n",
              "  }\n",
              "\n",
              "  .colab-df-spinner {\n",
              "    border: 2px solid var(--fill-color);\n",
              "    border-color: transparent;\n",
              "    border-bottom-color: var(--fill-color);\n",
              "    animation:\n",
              "      spin 1s steps(1) infinite;\n",
              "  }\n",
              "\n",
              "  @keyframes spin {\n",
              "    0% {\n",
              "      border-color: transparent;\n",
              "      border-bottom-color: var(--fill-color);\n",
              "      border-left-color: var(--fill-color);\n",
              "    }\n",
              "    20% {\n",
              "      border-color: transparent;\n",
              "      border-left-color: var(--fill-color);\n",
              "      border-top-color: var(--fill-color);\n",
              "    }\n",
              "    30% {\n",
              "      border-color: transparent;\n",
              "      border-left-color: var(--fill-color);\n",
              "      border-top-color: var(--fill-color);\n",
              "      border-right-color: var(--fill-color);\n",
              "    }\n",
              "    40% {\n",
              "      border-color: transparent;\n",
              "      border-right-color: var(--fill-color);\n",
              "      border-top-color: var(--fill-color);\n",
              "    }\n",
              "    60% {\n",
              "      border-color: transparent;\n",
              "      border-right-color: var(--fill-color);\n",
              "    }\n",
              "    80% {\n",
              "      border-color: transparent;\n",
              "      border-right-color: var(--fill-color);\n",
              "      border-bottom-color: var(--fill-color);\n",
              "    }\n",
              "    90% {\n",
              "      border-color: transparent;\n",
              "      border-bottom-color: var(--fill-color);\n",
              "    }\n",
              "  }\n",
              "</style>\n",
              "\n",
              "  <script>\n",
              "    async function quickchart(key) {\n",
              "      const quickchartButtonEl =\n",
              "        document.querySelector('#' + key + ' button');\n",
              "      quickchartButtonEl.disabled = true;  // To prevent multiple clicks.\n",
              "      quickchartButtonEl.classList.add('colab-df-spinner');\n",
              "      try {\n",
              "        const charts = await google.colab.kernel.invokeFunction(\n",
              "            'suggestCharts', [key], {});\n",
              "      } catch (error) {\n",
              "        console.error('Error during call to suggestCharts:', error);\n",
              "      }\n",
              "      quickchartButtonEl.classList.remove('colab-df-spinner');\n",
              "      quickchartButtonEl.classList.add('colab-df-quickchart-complete');\n",
              "    }\n",
              "    (() => {\n",
              "      let quickchartButtonEl =\n",
              "        document.querySelector('#df-68eed547-13ed-454f-80b3-b4871e60daac button');\n",
              "      quickchartButtonEl.style.display =\n",
              "        google.colab.kernel.accessAllowed ? 'block' : 'none';\n",
              "    })();\n",
              "  </script>\n",
              "</div>\n",
              "    </div>\n",
              "  </div>\n"
            ]
          },
          "metadata": {},
          "execution_count": 11
        }
      ]
    },
    {
      "cell_type": "code",
      "source": [
        "# Поиск максимальной длины входящего предложения\n",
        "\n",
        "raw_docs_train = train_df[\"text\"].values\n",
        "sentiment_train = train_df['sentiment'].values\n",
        "maxLen = len(max(raw_docs_train, key=len).split())"
      ],
      "metadata": {
        "_uuid": "3cd63e88796d483fbfcb5bc01895a985d64da84d",
        "collapsed": true,
        "jupyter": {
          "outputs_hidden": true
        },
        "trusted": true,
        "id": "Pu6ZZn32jTZg"
      },
      "execution_count": 12,
      "outputs": []
    },
    {
      "cell_type": "code",
      "source": [
        "# Разделим датасет на обучающую и тестировочную выборку\n",
        "\n",
        "X_train, X_test, Y_train, Y_test = train_test_split(raw_docs_train, sentiment_train,\n",
        "                                                  stratify=sentiment_train,\n",
        "                                                  random_state=42,\n",
        "                                                  test_size=0.1, shuffle=True)\n",
        "print('# Train data samples:', X_train.shape)\n",
        "print('# Test data samples:', X_test.shape)\n",
        "assert X_train.shape[0] == Y_train.shape[0]\n",
        "assert X_test.shape[0] == Y_test.shape[0]"
      ],
      "metadata": {
        "_uuid": "6d9f6fadb7c4b3eb4111eefd91d1aa21a9cfaa13",
        "trusted": true,
        "id": "KCeyVSnwjTZg",
        "colab": {
          "base_uri": "https://localhost:8080/"
        },
        "outputId": "3b4192a7-da54-4258-e89a-fb5e4cc68c4e"
      },
      "execution_count": 13,
      "outputs": [
        {
          "output_type": "stream",
          "name": "stdout",
          "text": [
            "# Train data samples: (13176,)\n",
            "# Test data samples: (1464,)\n"
          ]
        }
      ]
    },
    {
      "cell_type": "code",
      "source": [
        "# Переведем метки датасета к унитарному виду (0 - Негативное, 1 - Нетральное, 2 - Позитивное)\n",
        "\n",
        "num_labels = len(np.unique(sentiment_train))\n",
        "Y_oh_train = to_categorical(Y_train, num_labels)\n",
        "Y_oh_test = to_categorical(Y_test, num_labels)\n",
        "print(Y_oh_train.shape)"
      ],
      "metadata": {
        "_uuid": "628aab4d9e98412d84e625386ca8e29a93087b0e",
        "trusted": true,
        "id": "1iB6QF1XjTZh",
        "colab": {
          "base_uri": "https://localhost:8080/"
        },
        "outputId": "4aadab08-a18c-4155-ff61-09f35bb9024d"
      },
      "execution_count": 14,
      "outputs": [
        {
          "output_type": "stream",
          "name": "stdout",
          "text": [
            "(13176, 3)\n"
          ]
        }
      ]
    },
    {
      "cell_type": "code",
      "source": [
        "# Загрузим и прочитаем массив GLoVe (GLobal Vectors)\n",
        "\n",
        "def read_glove_vecs(glove_file):\n",
        "    with open(glove_file, encoding=\"utf8\") as f:\n",
        "        words = set()\n",
        "        word_to_vec_map = {}\n",
        "        for line in f:\n",
        "            line = line.strip().split()\n",
        "            curr_word = line[0]\n",
        "            words.add(curr_word)\n",
        "            word_to_vec_map[curr_word] = np.array(line[1:], dtype=np.float64)\n",
        "        i = 1\n",
        "        words_to_index = {}\n",
        "        index_to_words = {}\n",
        "        for w in sorted(words):\n",
        "            words_to_index[w] = i\n",
        "            index_to_words[i] = w\n",
        "            i = i + 1\n",
        "    return words_to_index, index_to_words, word_to_vec_map\n",
        "word_to_index, index_to_word, word_to_vec_map = read_glove_vecs('../content/input/glove-global-vectors-for-word-representation/glove.6B.50d.txt')"
      ],
      "metadata": {
        "_uuid": "99d981e8c3cff2bf8735c84a103e7036594c8f2b",
        "collapsed": true,
        "jupyter": {
          "outputs_hidden": true
        },
        "trusted": true,
        "id": "CUPtP0RJjTZh"
      },
      "execution_count": 15,
      "outputs": []
    },
    {
      "cell_type": "code",
      "source": [
        "# Проверка массива словаря GLoVe\n",
        "word = \"cucumber\"\n",
        "index = 289846\n",
        "print(\"Индекс слова в \", word, \" в словаре: \", word_to_index[word])\n",
        "print(str(index) + \" индекс в словаре это: \", index_to_word[index])"
      ],
      "metadata": {
        "_uuid": "39c22d10df64e9c89fc7ad5cfe7739d688110086",
        "trusted": true,
        "id": "nOCj4cUSjTZi",
        "colab": {
          "base_uri": "https://localhost:8080/"
        },
        "outputId": "bd34ec3e-5649-4f54-c45f-c794716fe776"
      },
      "execution_count": 16,
      "outputs": [
        {
          "output_type": "stream",
          "name": "stdout",
          "text": [
            "Индекс слова в  cucumber  в словаре:  113317\n",
            "289846 индекс в словаре это:  potatos\n"
          ]
        }
      ]
    },
    {
      "cell_type": "code",
      "source": [
        "#Функция контвертации текста в массив индексов словаря GLoVe\n",
        "\n",
        "def sentences_to_indices(X, word_to_index, max_len):\n",
        "    m = X.shape[0]                                   #Размер обучающей выборки\n",
        "    # Создание нулевой матрицы X_indices подходяещего размера (≈ 1 line)\n",
        "    X_indices = np.zeros((m,max_len))\n",
        "    for i in range(m):                               # перебор обучающих примеров\n",
        "        # Разбиение предложения на массив слов.\n",
        "        sentence_words =[word.lower().replace('\\t', '') for word in X[i].split(' ') if word.replace('\\t', '') != '']\n",
        "        j = 0\n",
        "        # Перевод всех слов в индекса словаря\n",
        "        for w in sentence_words:\n",
        "            try:\n",
        "                X_indices[i, j] = word_to_index[w]\n",
        "            except: 0\n",
        "            j = j+1\n",
        "    return X_indices"
      ],
      "metadata": {
        "_uuid": "104f5eb15b2f6dfc2e7a5b966389468b24ed8e8c",
        "collapsed": true,
        "jupyter": {
          "outputs_hidden": true
        },
        "trusted": true,
        "id": "eFS7ncv9jTZi"
      },
      "execution_count": 17,
      "outputs": []
    },
    {
      "cell_type": "code",
      "source": [
        "# Создание слоя встраивания\n",
        "def pretrained_embedding_layer(word_to_vec_map, word_to_index):\n",
        "    vocab_len = len(word_to_index) + 1                  # Добавление +1 для сответсвия массива под Keras Embedding(Требование)\n",
        "    emb_dim = word_to_vec_map[\"cucumber\"].shape[0]      # Определение размерности массива GLoVe (= 50)\n",
        "    # Инициализация матрицы относительно предыдущих преременных\n",
        "    emb_matrix = np.zeros((vocab_len,emb_dim))\n",
        "    # Приравнивание каждого индекса матрицы к индексам массива словаря\n",
        "    for word, index in word_to_index.items():\n",
        "        emb_matrix[index, :] = word_to_vec_map[word]\n",
        "    # Определение количества входных и выходных слоев\n",
        "    embedding_layer = Embedding(vocab_len, emb_dim, trainable = False)\n",
        "    # Инициализация встроенного слоя\n",
        "    embedding_layer.build((None,))\n",
        "    # Установка предварительных весов в встроенный слой\n",
        "    embedding_layer.set_weights([emb_matrix])\n",
        "    return embedding_layer"
      ],
      "metadata": {
        "_uuid": "9df0a15f48e9bb10b7125be3c566e618db6eb7a2",
        "collapsed": true,
        "jupyter": {
          "outputs_hidden": true
        },
        "trusted": true,
        "id": "zvznavSXjTZi"
      },
      "execution_count": 18,
      "outputs": []
    },
    {
      "cell_type": "code",
      "source": [
        "def ltsm_model(input_shape, word_to_vec_map, word_to_index):\n",
        "    # Определим sentence_indices для обозначения входного значения. Требования: shape input_shape и dtype 'int32'.\n",
        "    sentence_indices =  Input(shape=input_shape, dtype='int32')\n",
        "    # Создание встроенного слоя (≈1 line)\n",
        "    embedding_layer = pretrained_embedding_layer(word_to_vec_map, word_to_index)\n",
        "    # Протащим sentence_indices через встроенный слой для получения обратного распространения\n",
        "    embeddings = embedding_layer(sentence_indices)\n",
        "    # Добавим слой долгой-короткой памяти (LSTM layer) с размерностью 128 с возвратом партий предложений\n",
        "    # По окончанию получим партии предложений\n",
        "    X = LSTM(128, return_sequences=True)(embeddings)\n",
        "    # Добавим метод регуляризации Dropout для отсеивания с коэффициентом отсеивания 0.5\n",
        "    X = Dropout(0.5)(X)\n",
        "    # Добавим анологичный слой долгой-короткой памяти (LSTM layer), но без возврата партий предложений\n",
        "    X = LSTM(128, return_sequences=False)(X)\n",
        "    # Добавим метод регуляризации Dropout для отсеивания с коэффициентом отсеивания 0.5\n",
        "    X = Dropout(0.5)(X)\n",
        "    # Добавление плотного (линейного слоя) с 3 нейронами (0-Негативное,1-Нейтральное,2-Позитивное).\n",
        "    X = Dense(3, activation=None)(X)\n",
        "    # Назначение функции активации\n",
        "    X = Activation('softmax')(X)\n",
        "    model = Model(inputs=[sentence_indices], outputs=X)\n",
        "    return model"
      ],
      "metadata": {
        "_uuid": "9b7a82c8a291557db49cdd4cf8cdfc12ebf0549a",
        "collapsed": true,
        "jupyter": {
          "outputs_hidden": true
        },
        "trusted": true,
        "id": "9P3szAXSjTZj"
      },
      "execution_count": 19,
      "outputs": []
    },
    {
      "cell_type": "code",
      "source": [
        "# Создание рекуррентной нейронной сети\n",
        "model = ltsm_model((maxLen,), word_to_vec_map, word_to_index)\n",
        "# Краткая информация о нейронной сети\n",
        "model.summary()"
      ],
      "metadata": {
        "_uuid": "6cbfcb0d47cf206e920adf8865206dd74d14365f",
        "trusted": true,
        "id": "Yp4TRRI6jTZj",
        "colab": {
          "base_uri": "https://localhost:8080/"
        },
        "outputId": "5f7d12a9-dec3-4a99-a4ad-e0a1ad8e8ea1"
      },
      "execution_count": 20,
      "outputs": [
        {
          "output_type": "stream",
          "name": "stdout",
          "text": [
            "Model: \"model\"\n",
            "_________________________________________________________________\n",
            " Layer (type)                Output Shape              Param #   \n",
            "=================================================================\n",
            " input_1 (InputLayer)        [(None, 26)]              0         \n",
            "                                                                 \n",
            " embedding (Embedding)       (None, 26, 50)            20000050  \n",
            "                                                                 \n",
            " lstm (LSTM)                 (None, 26, 128)           91648     \n",
            "                                                                 \n",
            " dropout (Dropout)           (None, 26, 128)           0         \n",
            "                                                                 \n",
            " lstm_1 (LSTM)               (None, 128)               131584    \n",
            "                                                                 \n",
            " dropout_1 (Dropout)         (None, 128)               0         \n",
            "                                                                 \n",
            " dense (Dense)               (None, 3)                 387       \n",
            "                                                                 \n",
            " activation (Activation)     (None, 3)                 0         \n",
            "                                                                 \n",
            "=================================================================\n",
            "Total params: 20223669 (77.15 MB)\n",
            "Trainable params: 223619 (873.51 KB)\n",
            "Non-trainable params: 20000050 (76.29 MB)\n",
            "_________________________________________________________________\n"
          ]
        }
      ]
    },
    {
      "cell_type": "code",
      "source": [
        "# Обучение нейронной сети\n",
        "model.compile(loss='categorical_crossentropy', optimizer='adam', metrics=['accuracy'])\n",
        "X_train_indices = sentences_to_indices(X_train, word_to_index, maxLen)\n",
        "X_test_indices = sentences_to_indices(X_test, word_to_index, maxLen)\n",
        "print(X_train_indices.shape)\n",
        "earlystop = EarlyStopping(monitor='val_loss', min_delta=0, patience=3, verbose=0, mode='auto')\n",
        "model.fit(X_train_indices, y=Y_oh_train, batch_size=512, epochs=20,\n",
        "          verbose=1, validation_data=(X_test_indices, Y_oh_test), callbacks=[earlystop])"
      ],
      "metadata": {
        "_uuid": "5ab27c301e845fb2e0e7bfb3445c4663701e5f33",
        "trusted": true,
        "id": "TulvWsMCjTZk",
        "colab": {
          "base_uri": "https://localhost:8080/"
        },
        "outputId": "dcd41643-36d3-45a5-d510-076f0407d6a6"
      },
      "execution_count": 21,
      "outputs": [
        {
          "output_type": "stream",
          "name": "stdout",
          "text": [
            "(13176, 26)\n",
            "Epoch 1/20\n",
            "26/26 [==============================] - 19s 577ms/step - loss: 0.8664 - accuracy: 0.6186 - val_loss: 0.8177 - val_accuracy: 0.6407\n",
            "Epoch 2/20\n",
            "26/26 [==============================] - 14s 539ms/step - loss: 0.7789 - accuracy: 0.6709 - val_loss: 0.7175 - val_accuracy: 0.6954\n",
            "Epoch 3/20\n",
            "26/26 [==============================] - 14s 530ms/step - loss: 0.7029 - accuracy: 0.7159 - val_loss: 0.6659 - val_accuracy: 0.7254\n",
            "Epoch 4/20\n",
            "26/26 [==============================] - 15s 573ms/step - loss: 0.6775 - accuracy: 0.7259 - val_loss: 0.6643 - val_accuracy: 0.7439\n",
            "Epoch 5/20\n",
            "26/26 [==============================] - 14s 538ms/step - loss: 0.6562 - accuracy: 0.7298 - val_loss: 0.6418 - val_accuracy: 0.7418\n",
            "Epoch 6/20\n",
            "26/26 [==============================] - 14s 539ms/step - loss: 0.6372 - accuracy: 0.7379 - val_loss: 0.6343 - val_accuracy: 0.7541\n",
            "Epoch 7/20\n",
            "26/26 [==============================] - 15s 557ms/step - loss: 0.6190 - accuracy: 0.7478 - val_loss: 0.6203 - val_accuracy: 0.7514\n",
            "Epoch 8/20\n",
            "26/26 [==============================] - 14s 532ms/step - loss: 0.6057 - accuracy: 0.7530 - val_loss: 0.6172 - val_accuracy: 0.7568\n",
            "Epoch 9/20\n",
            "26/26 [==============================] - 14s 533ms/step - loss: 0.6047 - accuracy: 0.7544 - val_loss: 0.6237 - val_accuracy: 0.7520\n",
            "Epoch 10/20\n",
            "26/26 [==============================] - 14s 536ms/step - loss: 0.5917 - accuracy: 0.7598 - val_loss: 0.6122 - val_accuracy: 0.7555\n",
            "Epoch 11/20\n",
            "26/26 [==============================] - 14s 533ms/step - loss: 0.5670 - accuracy: 0.7689 - val_loss: 0.5953 - val_accuracy: 0.7623\n",
            "Epoch 12/20\n",
            "26/26 [==============================] - 14s 538ms/step - loss: 0.5538 - accuracy: 0.7736 - val_loss: 0.5906 - val_accuracy: 0.7630\n",
            "Epoch 13/20\n",
            "26/26 [==============================] - 14s 540ms/step - loss: 0.5518 - accuracy: 0.7765 - val_loss: 0.5919 - val_accuracy: 0.7616\n",
            "Epoch 14/20\n",
            "26/26 [==============================] - 14s 535ms/step - loss: 0.5465 - accuracy: 0.7793 - val_loss: 0.5945 - val_accuracy: 0.7630\n",
            "Epoch 15/20\n",
            "26/26 [==============================] - 14s 539ms/step - loss: 0.5291 - accuracy: 0.7876 - val_loss: 0.6521 - val_accuracy: 0.7548\n"
          ]
        },
        {
          "output_type": "execute_result",
          "data": {
            "text/plain": [
              "<keras.src.callbacks.History at 0x7c528447bc70>"
            ]
          },
          "metadata": {},
          "execution_count": 21
        }
      ]
    },
    {
      "cell_type": "code",
      "source": [
        "#Заготовки для проверки нейронной сети\n",
        "['Good'] # Хорошо\n",
        "['Happy'] # Счастливый\n",
        "\n",
        "['Cold weather today'] # Сегодня прохладная погода\n",
        "['Warm weather today'] # Сегодня теплая погода\n",
        "\n",
        "['He is a nice person'] # Он хороший человек\n",
        "['He is unpleasant person'] # Он неприятный человек\n",
        "\n",
        "['Bad'] # Плохо\n",
        "['Awful'] # Ужасный\n",
        "['Terrible'] # Ужасный\n",
        "\n",
        "['Neutral'] # Нейтральный\n",
        "['Green grass'] # Зеленая трава"
      ],
      "metadata": {
        "colab": {
          "base_uri": "https://localhost:8080/"
        },
        "id": "tNh60Wwlns3q",
        "outputId": "0673cc01-dde1-4fbf-c438-c3fefe8bfe22"
      },
      "execution_count": 22,
      "outputs": [
        {
          "output_type": "execute_result",
          "data": {
            "text/plain": [
              "['Green grass']"
            ]
          },
          "metadata": {},
          "execution_count": 22
        }
      ]
    },
    {
      "cell_type": "code",
      "source": [
        "#Проверка нейронной сети\n",
        "x_test = np.array(['Bad'])\n",
        "X_test_indices = sentences_to_indices(x_test, word_to_index, maxLen)\n",
        "print(x_test[0] +' '+  str(np.argmax(model.predict(X_test_indices))))"
      ],
      "metadata": {
        "colab": {
          "base_uri": "https://localhost:8080/"
        },
        "id": "GF5ipiSc9vob",
        "outputId": "da2ffbb2-43b0-48a2-8a82-05953253d4fc"
      },
      "execution_count": 30,
      "outputs": [
        {
          "output_type": "stream",
          "name": "stdout",
          "text": [
            "1/1 [==============================] - 0s 59ms/step\n",
            "Bad 0\n"
          ]
        }
      ]
    }
  ]
}